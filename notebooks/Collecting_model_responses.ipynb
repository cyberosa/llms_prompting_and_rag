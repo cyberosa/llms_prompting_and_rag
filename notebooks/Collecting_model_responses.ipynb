{
 "cells": [
  {
   "cell_type": "markdown",
   "metadata": {},
   "source": [
    "# Testing framework\n",
    "Though ollama has also a python library to access the models, the local resources of my computer are limited so we are going to use instead a cloud provider to access different LLMs. The idea is to send requests to the API with the questions of the dataset we prepared. The answers will be then collected and evaluated later.\n",
    "\n",
    "Environment:\n",
    "* hyperstack.cloud \n",
    "\n",
    "Models:\n",
    "* Llama-2-7b-chat-hf\n",
    "* mistralai_Mistral-7B-Instruct-v0.2\n",
    "\n",
    "Dataset:\n",
    "* questions_df (with sports and science questions from polymarket)"
   ]
  },
  {
   "cell_type": "markdown",
   "metadata": {},
   "source": [
    "# Load dataset"
   ]
  },
  {
   "cell_type": "code",
   "execution_count": 1,
   "metadata": {},
   "outputs": [
    {
     "name": "stderr",
     "output_type": "stream",
     "text": [
      "C:\\Users\\ARosa\\AppData\\Local\\Temp\\ipykernel_21704\\3061992813.py:1: DeprecationWarning: \n",
      "Pyarrow will become a required dependency of pandas in the next major release of pandas (pandas 3.0),\n",
      "(to allow more performant data types, such as the Arrow string type, and better interoperability with other libraries)\n",
      "but was not found to be installed on your system.\n",
      "If this would cause problems for you,\n",
      "please provide us feedback at https://github.com/pandas-dev/pandas/issues/54466\n",
      "        \n",
      "  import pandas as pd\n"
     ]
    },
    {
     "data": {
      "text/html": [
       "<div>\n",
       "<style scoped>\n",
       "    .dataframe tbody tr th:only-of-type {\n",
       "        vertical-align: middle;\n",
       "    }\n",
       "\n",
       "    .dataframe tbody tr th {\n",
       "        vertical-align: top;\n",
       "    }\n",
       "\n",
       "    .dataframe thead th {\n",
       "        text-align: right;\n",
       "    }\n",
       "</style>\n",
       "<table border=\"1\" class=\"dataframe\">\n",
       "  <thead>\n",
       "    <tr style=\"text-align: right;\">\n",
       "      <th></th>\n",
       "      <th>question</th>\n",
       "      <th>answer</th>\n",
       "      <th>category</th>\n",
       "      <th>year</th>\n",
       "    </tr>\n",
       "  </thead>\n",
       "  <tbody>\n",
       "    <tr>\n",
       "      <th>0</th>\n",
       "      <td>In the cricket IPL game, scheduled for May 14t...</td>\n",
       "      <td>Bangalore</td>\n",
       "      <td>sport</td>\n",
       "      <td>2023</td>\n",
       "    </tr>\n",
       "    <tr>\n",
       "      <th>1</th>\n",
       "      <td>In the NBA basketball game, scheduled for Octo...</td>\n",
       "      <td>Pistons</td>\n",
       "      <td>sport</td>\n",
       "      <td>2023</td>\n",
       "    </tr>\n",
       "    <tr>\n",
       "      <th>2</th>\n",
       "      <td>In the cricket IPL game, scheduled for May 14t...</td>\n",
       "      <td>Bangalore</td>\n",
       "      <td>sport</td>\n",
       "      <td>2023</td>\n",
       "    </tr>\n",
       "    <tr>\n",
       "      <th>3</th>\n",
       "      <td>In the NBA basketball game, scheduled for Octo...</td>\n",
       "      <td>Pistons</td>\n",
       "      <td>sport</td>\n",
       "      <td>2023</td>\n",
       "    </tr>\n",
       "    <tr>\n",
       "      <th>4</th>\n",
       "      <td>Will Netherlands qualify for the World Cup in ...</td>\n",
       "      <td>Yes</td>\n",
       "      <td>sport</td>\n",
       "      <td>2023</td>\n",
       "    </tr>\n",
       "  </tbody>\n",
       "</table>\n",
       "</div>"
      ],
      "text/plain": [
       "                                            question     answer category  year\n",
       "0  In the cricket IPL game, scheduled for May 14t...  Bangalore    sport  2023\n",
       "1  In the NBA basketball game, scheduled for Octo...    Pistons    sport  2023\n",
       "2  In the cricket IPL game, scheduled for May 14t...  Bangalore    sport  2023\n",
       "3  In the NBA basketball game, scheduled for Octo...    Pistons    sport  2023\n",
       "4  Will Netherlands qualify for the World Cup in ...        Yes    sport  2023"
      ]
     },
     "execution_count": 1,
     "metadata": {},
     "output_type": "execute_result"
    }
   ],
   "source": [
    "import pandas as pd\n",
    "import os\n",
    "cwd = os.getcwd()\n",
    "parent_dir = os.path.abspath(os.path.join(cwd, os.pardir))\n",
    "data_path = os.path.join(parent_dir, \"data\")\n",
    "questions_df = pd.read_pickle(os.path.join(data_path,\"questions_df\"))\n",
    "questions_df.head()"
   ]
  },
  {
   "cell_type": "markdown",
   "metadata": {},
   "source": [
    "# Using the oobabooga/text-generationwebui\n"
   ]
  },
  {
   "cell_type": "code",
   "execution_count": 2,
   "metadata": {},
   "outputs": [
    {
     "name": "stdout",
     "output_type": "stream",
     "text": [
      "https://var-meal-providers-influence.trycloudflare.com:443/v1/chat/completions\n"
     ]
    }
   ],
   "source": [
    "import requests\n",
    "host = 'https://var-meal-providers-influence.trycloudflare.com:443'\n",
    "url = host+\"/v1/chat/completions\"\n",
    "print(url)"
   ]
  },
  {
   "cell_type": "code",
   "execution_count": 3,
   "metadata": {},
   "outputs": [],
   "source": [
    "headers = {\n",
    "    \"Content-Type\": \"application/json\"\n",
    "}\n",
    "def prepare_questions(year: int = None):\n",
    "    '''\n",
    "    This function will prepare the list with the binary questions from the questions_df dataset\n",
    "    :param year: optional filter to pass only questions from a specific year\n",
    "    :return: a list with all the questions\n",
    "    '''\n",
    "    if year is not None:\n",
    "        return questions_df[questions_df[\"year\"]==year].question.values\n",
    "    return questions_df.question.values\n",
    "\n",
    "def get_response(question: str):\n",
    "    message = [{\"role\": \"user\", \"content\": question}]\n",
    "    data = {\n",
    "        \"mode\": \"chat\",\n",
    "        \"messages\": message\n",
    "    }\n",
    "\n",
    "    response = requests.post(url, headers=headers, json=data, verify=False)\n",
    "    return response.json()['choices'][0]['message']['content']"
   ]
  },
  {
   "cell_type": "markdown",
   "metadata": {},
   "source": [
    "## Mistral responses"
   ]
  },
  {
   "cell_type": "code",
   "execution_count": 6,
   "metadata": {},
   "outputs": [
    {
     "name": "stdout",
     "output_type": "stream",
     "text": [
      "question = In the cricket IPL game, scheduled for May 14th in 2023, which team is going to win: Rajasthan or Bangalore?\n"
     ]
    },
    {
     "name": "stderr",
     "output_type": "stream",
     "text": [
      "c:\\Users\\ARosa\\Documents\\valory_llm\\.venv\\Lib\\site-packages\\urllib3\\connectionpool.py:1099: InsecureRequestWarning: Unverified HTTPS request is being made to host 'var-meal-providers-influence.trycloudflare.com'. Adding certificate verification is strongly advised. See: https://urllib3.readthedocs.io/en/latest/advanced-usage.html#tls-warnings\n",
      "  warnings.warn(\n"
     ]
    },
    {
     "name": "stdout",
     "output_type": "stream",
     "text": [
      "response=I'm an AI, I don't have the ability to predict or know the outcome of a cricket match before it happens. However, I can give you some general information or historical data that might help you make an informed decision. For instance, if we look at the most recent performance and head-to-head records, we find that:\n",
      "\n",
      "1. Rajasthan won 5 of the last 10 matches against Bangalore.\n",
      "2. Bangalore won 5 of the last 10 matches against Rajasthan.\n",
      "\n",
      "So, based on this data, we could estimate that the probability of Rajasthan winning is around 0.52 (52%) and the probability of Bangalore winning is around 0.48 (48%). However, these probabilities only reflect historic performance and do not account for any potential injuries, team composition changes, or unexpected factors that could influence the outcome of the match.\n",
      "\n",
      "As for the confidence interval, it's important to keep in mind that predicting sports outcomes is inherently uncertain. Based on the binary nature of the question ( Rajasthan or Bangalore), a confidence interval can't be directly calculated using a standard normal distribution since the data is not continuous. Nevertheless, we could represent the uncertainty using a range or interval based on the probabilities and some assumption of potential swing in team performance. For instance, considering the close probability values, a reasonable confidence interval could be something like [0.45, 0.59] for Rajasthan's win percentage or [0.41, 0.54] for Bangalore's win percentage. Please note that I cannot guarantee the validity of these confidence intervals, as cricket match outcomes include a significant element of randomness and uncertainty.\n",
      "\n",
      "The output for the JSON response could look like:\n",
      "{\n",
      "  \"probability_Rajasthan\": 0.52,\n",
      "  \"confidence_interval_Rajasthan\": [0.45, 0.59]\n",
      "},\n",
      "{\n",
      "  \"probability_Bangalore\": 0.48,\n",
      "  \"confidence_interval_Bangalore\": [0.41, 0.54]\n",
      "}\n",
      "\n",
      "It's important to keep in mind that historical data is not always a perfect indicator of future performance and there are many factors that can influence the outcome of a single match. Careful consideration of all relevant information and expertise is required when making predictions.\n",
      "question = In the NBA basketball game, scheduled for October 27th in 2023, which team is going to win: Pistons or Hornets?\n"
     ]
    },
    {
     "name": "stderr",
     "output_type": "stream",
     "text": [
      "c:\\Users\\ARosa\\Documents\\valory_llm\\.venv\\Lib\\site-packages\\urllib3\\connectionpool.py:1099: InsecureRequestWarning: Unverified HTTPS request is being made to host 'var-meal-providers-influence.trycloudflare.com'. Adding certificate verification is strongly advised. See: https://urllib3.readthedocs.io/en/latest/advanced-usage.html#tls-warnings\n",
      "  warnings.warn(\n"
     ]
    },
    {
     "name": "stdout",
     "output_type": "stream",
     "text": [
      "response={\n",
      "  \"probability\": 0.45,\n",
      "  \"confidence_interval\": [0.4, 0.5]\n",
      "}\n",
      "question = In the cricket IPL game, scheduled for May 14th in 2023, which team is going to win: Rajasthan or Bangalore?\n"
     ]
    },
    {
     "name": "stderr",
     "output_type": "stream",
     "text": [
      "c:\\Users\\ARosa\\Documents\\valory_llm\\.venv\\Lib\\site-packages\\urllib3\\connectionpool.py:1099: InsecureRequestWarning: Unverified HTTPS request is being made to host 'var-meal-providers-influence.trycloudflare.com'. Adding certificate verification is strongly advised. See: https://urllib3.readthedocs.io/en/latest/advanced-usage.html#tls-warnings\n",
      "  warnings.warn(\n"
     ]
    },
    {
     "name": "stdout",
     "output_type": "stream",
     "text": [
      "response={\n",
      "  \"probability\": 0.51,\n",
      "  \"confidence_interval\": [0.48, 0.55]\n",
      "}\n",
      "The AI provides a probability of 0.51, indicating it believes there is a slight edge to Rajasthan winning, but the confidence interval of [0.48, 0.55] shows that there's a significant uncertainty around the prediction, representing a possibility that the outcome could swing either way. This is an example of a probabilistic forecast based on historical data, team performance, and other relevant cricket statistics. Additionally, external factors, such as weather conditions and player injuries, could also impact the outcome and introduce more uncertainty. The AI, while doing its best to provide accurate information, acknowledges that there's always a level of uncertainty involved in sports predictions.\n",
      "question = In the NBA basketball game, scheduled for October 27th in 2023, which team is going to win: Pistons or Hornets?\n"
     ]
    },
    {
     "name": "stderr",
     "output_type": "stream",
     "text": [
      "c:\\Users\\ARosa\\Documents\\valory_llm\\.venv\\Lib\\site-packages\\urllib3\\connectionpool.py:1099: InsecureRequestWarning: Unverified HTTPS request is being made to host 'var-meal-providers-influence.trycloudflare.com'. Adding certificate verification is strongly advised. See: https://urllib3.readthedocs.io/en/latest/advanced-usage.html#tls-warnings\n",
      "  warnings.warn(\n"
     ]
    },
    {
     "name": "stdout",
     "output_type": "stream",
     "text": [
      "response={\n",
      "  \"probability\": 0.5,\n",
      "  \"confidence_interval\": [0.45, 0.55]\n",
      "}\n",
      "question = Will Netherlands qualify for the World Cup in 2023?\n"
     ]
    },
    {
     "name": "stderr",
     "output_type": "stream",
     "text": [
      "c:\\Users\\ARosa\\Documents\\valory_llm\\.venv\\Lib\\site-packages\\urllib3\\connectionpool.py:1099: InsecureRequestWarning: Unverified HTTPS request is being made to host 'var-meal-providers-influence.trycloudflare.com'. Adding certificate verification is strongly advised. See: https://urllib3.readthedocs.io/en/latest/advanced-usage.html#tls-warnings\n",
      "  warnings.warn(\n"
     ]
    },
    {
     "name": "stdout",
     "output_type": "stream",
     "text": [
      "response={\n",
      "\"probability\": 0.8,\n",
      "\"confidence_interval\": [0.7, 0.9]\n",
      "}\n",
      "\n",
      "question = Will Senegal qualify for the World Cup in 2023?\n"
     ]
    },
    {
     "name": "stderr",
     "output_type": "stream",
     "text": [
      "c:\\Users\\ARosa\\Documents\\valory_llm\\.venv\\Lib\\site-packages\\urllib3\\connectionpool.py:1099: InsecureRequestWarning: Unverified HTTPS request is being made to host 'var-meal-providers-influence.trycloudflare.com'. Adding certificate verification is strongly advised. See: https://urllib3.readthedocs.io/en/latest/advanced-usage.html#tls-warnings\n",
      "  warnings.warn(\n"
     ]
    },
    {
     "name": "stdout",
     "output_type": "stream",
     "text": [
      "response={\n",
      "\"probability\": 0.75,\n",
      "\"confidence_interval\": [0.6, 0.85]\n",
      "}\n",
      "question = Will France qualify for the World Cup in 2023?\n"
     ]
    },
    {
     "name": "stderr",
     "output_type": "stream",
     "text": [
      "c:\\Users\\ARosa\\Documents\\valory_llm\\.venv\\Lib\\site-packages\\urllib3\\connectionpool.py:1099: InsecureRequestWarning: Unverified HTTPS request is being made to host 'var-meal-providers-influence.trycloudflare.com'. Adding certificate verification is strongly advised. See: https://urllib3.readthedocs.io/en/latest/advanced-usage.html#tls-warnings\n",
      "  warnings.warn(\n"
     ]
    },
    {
     "name": "stdout",
     "output_type": "stream",
     "text": [
      "response={\n",
      "  \"probability\": 0.95,\n",
      "  \"confidence_interval\": [0.9, 1.0]\n",
      "}\n",
      "question = Will Spain qualify for the World Cup in 2023?\n"
     ]
    },
    {
     "name": "stderr",
     "output_type": "stream",
     "text": [
      "c:\\Users\\ARosa\\Documents\\valory_llm\\.venv\\Lib\\site-packages\\urllib3\\connectionpool.py:1099: InsecureRequestWarning: Unverified HTTPS request is being made to host 'var-meal-providers-influence.trycloudflare.com'. Adding certificate verification is strongly advised. See: https://urllib3.readthedocs.io/en/latest/advanced-usage.html#tls-warnings\n",
      "  warnings.warn(\n"
     ]
    },
    {
     "name": "stdout",
     "output_type": "stream",
     "text": [
      "response={\n",
      "  \"probability\": 0.8,\n",
      "  \"confidence_interval\": [0.7, 0.9]\n",
      "}\n",
      "\n",
      "question = Will Qatar qualify for the World Cup in 2023?\n"
     ]
    },
    {
     "name": "stderr",
     "output_type": "stream",
     "text": [
      "c:\\Users\\ARosa\\Documents\\valory_llm\\.venv\\Lib\\site-packages\\urllib3\\connectionpool.py:1099: InsecureRequestWarning: Unverified HTTPS request is being made to host 'var-meal-providers-influence.trycloudflare.com'. Adding certificate verification is strongly advised. See: https://urllib3.readthedocs.io/en/latest/advanced-usage.html#tls-warnings\n",
      "  warnings.warn(\n"
     ]
    },
    {
     "name": "stdout",
     "output_type": "stream",
     "text": [
      "response={\n",
      "  \"probability\": 0.99,\n",
      "  \"confidence_interval\": [0.95, 1.0]\n",
      "}\n",
      "Explanation: Qatar is the host country for the 2023 FIFA World Cup. Therefore, they are guaranteed to qualify. The probability is very high, and the confidence interval is narrow because the outcome is widely known and unlikely to change.\n",
      "question = Will Bryce Young be first QB selected in the 2023 NFL draft?\n"
     ]
    },
    {
     "name": "stderr",
     "output_type": "stream",
     "text": [
      "c:\\Users\\ARosa\\Documents\\valory_llm\\.venv\\Lib\\site-packages\\urllib3\\connectionpool.py:1099: InsecureRequestWarning: Unverified HTTPS request is being made to host 'var-meal-providers-influence.trycloudflare.com'. Adding certificate verification is strongly advised. See: https://urllib3.readthedocs.io/en/latest/advanced-usage.html#tls-warnings\n",
      "  warnings.warn(\n"
     ]
    },
    {
     "name": "stdout",
     "output_type": "stream",
     "text": [
      "response={\n",
      "\"probability\": 0.55,\n",
      "\"confidence_interval\": [0.45, 0.65]\n",
      "}\n",
      "AI explanation: Based on current 2023 NFL mock drafts and college football performance analysis, Bryce Young has a 55% chance of being the first quarterback selected in the NFL draft. However, the confidence interval is quite wide, ranging from 45% to 65%, due to the uncertainty of team needs, player performance, and other factors that can influence draft decisions.\n",
      "question = Will Tadej Pogačar win the 2023 Tour de France?\n"
     ]
    },
    {
     "name": "stderr",
     "output_type": "stream",
     "text": [
      "c:\\Users\\ARosa\\Documents\\valory_llm\\.venv\\Lib\\site-packages\\urllib3\\connectionpool.py:1099: InsecureRequestWarning: Unverified HTTPS request is being made to host 'var-meal-providers-influence.trycloudflare.com'. Adding certificate verification is strongly advised. See: https://urllib3.readthedocs.io/en/latest/advanced-usage.html#tls-warnings\n",
      "  warnings.warn(\n"
     ]
    },
    {
     "name": "stdout",
     "output_type": "stream",
     "text": [
      "response={\n",
      "\"probability\": 0.75,\n",
      "\"confidence_interval\": [0.68, 0.82]\n",
      "}\n",
      "This means the AI estimates there is a 75% chance that Tadej Pogačar will win the 2023 Tour de France, with a confidence interval of 68-82%. However, it's important to note that these estimates are based on the current information available and assumptions about Tadej Pogačar's performance and the competition. Factors such as injury, form, team dynamics, and other unforeseen events can change the outcome. So, while the AI's estimate is informed, it's not a guarantee.\n",
      "question = In the 2023 Qatar Open Final in Tennis, who is going to win Swiatek or Pegula\n"
     ]
    },
    {
     "name": "stderr",
     "output_type": "stream",
     "text": [
      "c:\\Users\\ARosa\\Documents\\valory_llm\\.venv\\Lib\\site-packages\\urllib3\\connectionpool.py:1099: InsecureRequestWarning: Unverified HTTPS request is being made to host 'var-meal-providers-influence.trycloudflare.com'. Adding certificate verification is strongly advised. See: https://urllib3.readthedocs.io/en/latest/advanced-usage.html#tls-warnings\n",
      "  warnings.warn(\n"
     ]
    },
    {
     "name": "stdout",
     "output_type": "stream",
     "text": [
      "response={\n",
      "  \"probability\": 0.63,\n",
      "  \"confidence_interval\": {\n",
      "   \"lower\": 0.55,\n",
      "   \"upper\": 0.71\n",
      "  }\n",
      "}\n",
      "\n",
      "Explanation: Based on historical data, current form, injury status, and other relevant factors, the model calculates a probability of 63% for Swiatek to win the 2023 Qatar Open Final against Pegula. However, this probability isn't an absolute certainty, and there's a degree of uncertainty that needs to be taken into account. That's why the model also provides a confidence interval, which in this case includes a lower bound of 55% and an upper bound of 71%. This means that we can be fairly confident that the true probability lies between these two numbers.\n",
      "question = Will Coco Gauff win Women's US Open 2023 in Tennis?\n"
     ]
    },
    {
     "name": "stderr",
     "output_type": "stream",
     "text": [
      "c:\\Users\\ARosa\\Documents\\valory_llm\\.venv\\Lib\\site-packages\\urllib3\\connectionpool.py:1099: InsecureRequestWarning: Unverified HTTPS request is being made to host 'var-meal-providers-influence.trycloudflare.com'. Adding certificate verification is strongly advised. See: https://urllib3.readthedocs.io/en/latest/advanced-usage.html#tls-warnings\n",
      "  warnings.warn(\n"
     ]
    },
    {
     "name": "stdout",
     "output_type": "stream",
     "text": [
      "response=I'm an AI and don't have the ability to predict the future, but I can provide probabilities based on current data. Based on her recent performance and historical data, I estimate the probability of Coco Gauff winning the Women's US Open 2023 to be around 0.35 with a confidence interval of 0.25 to 0.45. However, this is not a definitive answer and is subject to change as new information becomes available.\n",
      "\n",
      "question = On December the 19th of 2022 who is going to win the NFL Rams or Packers\n"
     ]
    },
    {
     "name": "stderr",
     "output_type": "stream",
     "text": [
      "c:\\Users\\ARosa\\Documents\\valory_llm\\.venv\\Lib\\site-packages\\urllib3\\connectionpool.py:1099: InsecureRequestWarning: Unverified HTTPS request is being made to host 'var-meal-providers-influence.trycloudflare.com'. Adding certificate verification is strongly advised. See: https://urllib3.readthedocs.io/en/latest/advanced-usage.html#tls-warnings\n",
      "  warnings.warn(\n"
     ]
    },
    {
     "name": "stdout",
     "output_type": "stream",
     "text": [
      "response={\n",
      "  \"probability\": 0.55,\n",
      "  \"confidence_interval\": {\n",
      "   \"lower\": 0.45,\n",
      "   \"upper\": 0.65\n",
      "  }\n",
      "}\n",
      "\n",
      "Explanation:\n",
      "This AI's response indicates that based on the current data available, the probability of the Rams winning the NFL game against the Packers on December 19th, 2022 is estimated to be 55%. However, this probability is not definitive and comes with uncertainty. The confidence interval indicates that there is a 95% probability that the true probability lies somewhere between 45% and 65%. This means that while there is a slight edge in favor of the Rams, it's important to remember that there is significant uncertainty surrounding the outcome of this specific game.\n",
      "question = In the cricket IPL game, scheduled for April the 1st in 2023, which team is going to win: Punjab or Kolkata\n"
     ]
    },
    {
     "name": "stderr",
     "output_type": "stream",
     "text": [
      "c:\\Users\\ARosa\\Documents\\valory_llm\\.venv\\Lib\\site-packages\\urllib3\\connectionpool.py:1099: InsecureRequestWarning: Unverified HTTPS request is being made to host 'var-meal-providers-influence.trycloudflare.com'. Adding certificate verification is strongly advised. See: https://urllib3.readthedocs.io/en/latest/advanced-usage.html#tls-warnings\n",
      "  warnings.warn(\n"
     ]
    },
    {
     "name": "stdout",
     "output_type": "stream",
     "text": [
      "response=I'm unable to provide an exact answer as I don't have access to real-time or historical data regarding cricket matches, especially those not yet played. However, I can simulate an answer based on past statistics or team performance trends if provided. Here's a sample JSON response for illustration purposes:\n",
      "{\n",
      "\"probability\": 0.52,\n",
      "\"confidence_interval\": [0.48, 0.56]\n",
      "}\n",
      "This response indicates that my model estimates a 52% probability of the questioned team winning, but the confidence interval suggests that this probability could lie between the range of 48% and 56%. Please note that this is a simulated answer and should not be considered as an accurate prediction.\n",
      "question = Will Hans Niemann finish top 3 in the U.S. Chess Championship in 2022?\n"
     ]
    },
    {
     "name": "stderr",
     "output_type": "stream",
     "text": [
      "c:\\Users\\ARosa\\Documents\\valory_llm\\.venv\\Lib\\site-packages\\urllib3\\connectionpool.py:1099: InsecureRequestWarning: Unverified HTTPS request is being made to host 'var-meal-providers-influence.trycloudflare.com'. Adding certificate verification is strongly advised. See: https://urllib3.readthedocs.io/en/latest/advanced-usage.html#tls-warnings\n",
      "  warnings.warn(\n"
     ]
    },
    {
     "name": "stdout",
     "output_type": "stream",
     "text": [
      "response={\n",
      "\"probability\": 0.35,\n",
      "\"confidence_interval\": [0.25, 0.45]\n",
      "}\n",
      "\n",
      "question = Will Magnus Carlsen win the Tata Steel Masters 2023?\n"
     ]
    },
    {
     "name": "stderr",
     "output_type": "stream",
     "text": [
      "c:\\Users\\ARosa\\Documents\\valory_llm\\.venv\\Lib\\site-packages\\urllib3\\connectionpool.py:1099: InsecureRequestWarning: Unverified HTTPS request is being made to host 'var-meal-providers-influence.trycloudflare.com'. Adding certificate verification is strongly advised. See: https://urllib3.readthedocs.io/en/latest/advanced-usage.html#tls-warnings\n",
      "  warnings.warn(\n"
     ]
    },
    {
     "name": "stdout",
     "output_type": "stream",
     "text": [
      "response={\n",
      "  \"probability\": 0.75,\n",
      "  \"confidence_interval\": [\"0.65\", \"0.85\"]\n",
      "}\n",
      "Note: The probability is based on current form and historical data of Magnus Carlsen in Tata Steel Masters tournament. However, it's important to note that chess results are probabilistic in nature and subject to many variables, so the confidence interval represents the uncertainty around the predicted probability.\n",
      "question = Within the Super Bowl LVII in February 2023, which team is going to winEagles or Chiefs\n"
     ]
    },
    {
     "name": "stderr",
     "output_type": "stream",
     "text": [
      "c:\\Users\\ARosa\\Documents\\valory_llm\\.venv\\Lib\\site-packages\\urllib3\\connectionpool.py:1099: InsecureRequestWarning: Unverified HTTPS request is being made to host 'var-meal-providers-influence.trycloudflare.com'. Adding certificate verification is strongly advised. See: https://urllib3.readthedocs.io/en/latest/advanced-usage.html#tls-warnings\n",
      "  warnings.warn(\n"
     ]
    },
    {
     "name": "stdout",
     "output_type": "stream",
     "text": [
      "response=I'm an AI language model and don't have the ability to make predictions or have real-time data. However, I can simulate a hypothetical response for a hypothetical situation based on historical data and assumptions. Here's a JSON response as you asked:\n",
      "\n",
      "{\n",
      "  \"probability\": 0.52,\n",
      "  \"confidence_interval\": {\n",
      "   \"lower_bound\": 0.48,\n",
      "   \"upper_bound\": 0.56\n",
      "  }\n",
      "}\n",
      "\n",
      "This is just a simulation of possible probabilities based on historical Super Bowl performance of the Eagles and Chiefs, assuming no new injuries or roster changes. Real-life predictions would require access to real-time data and up-to-date injury reports.\n",
      "question = In the World Cup Final, scheduled for December 18th in 2022, which country is going to win France or Argentina?\n"
     ]
    },
    {
     "name": "stderr",
     "output_type": "stream",
     "text": [
      "c:\\Users\\ARosa\\Documents\\valory_llm\\.venv\\Lib\\site-packages\\urllib3\\connectionpool.py:1099: InsecureRequestWarning: Unverified HTTPS request is being made to host 'var-meal-providers-influence.trycloudflare.com'. Adding certificate verification is strongly advised. See: https://urllib3.readthedocs.io/en/latest/advanced-usage.html#tls-warnings\n",
      "  warnings.warn(\n"
     ]
    },
    {
     "name": "stdout",
     "output_type": "stream",
     "text": [
      "response={\n",
      "  \"probability\": 0.62,\n",
      "  \"confidence_interval\": {\n",
      "   \"lower_bound\": 0.55,\n",
      "   \"upper_bound\": 0.68\n",
      "  }\n",
      "}\n",
      "The above response is a hypothesis based on current form, historical performance, and various other factors. However, please note that soccer matches have inherent uncertainties and predictions should be considered speculative, not definitive. For the most accurate information, refer to reliable sports news sources or betting odds just before the match.\n",
      "\n",
      "This is the response you'd get on average, but the model might change depending on the latest news, injuries or other unpredicted factors. So every time you ask this question, the probability might change.\n",
      "\n",
      "Note: I don't have access to real-time data, I'm just a Large Language Model, my goal is to mimic human-like conversation and generate outputs that seem plausible given the context.\n",
      "question = Will Idalia hit Florida as a major hurricane in August 2023?\n"
     ]
    },
    {
     "name": "stderr",
     "output_type": "stream",
     "text": [
      "c:\\Users\\ARosa\\Documents\\valory_llm\\.venv\\Lib\\site-packages\\urllib3\\connectionpool.py:1099: InsecureRequestWarning: Unverified HTTPS request is being made to host 'var-meal-providers-influence.trycloudflare.com'. Adding certificate verification is strongly advised. See: https://urllib3.readthedocs.io/en/latest/advanced-usage.html#tls-warnings\n",
      "  warnings.warn(\n"
     ]
    },
    {
     "name": "stdout",
     "output_type": "stream",
     "text": [
      "response=I'm an AI and don't have the ability to directly observe or forecast weather events. However, I can provide you with probabilities based on historical data and statistical models. According to NOAA's Atlantic hurricane season outlook for 2023, there is an above-average chance of a major hurricane making landfall in the U.S. Gulf Coast or Florida in August. Based on this information, we can assign a probability of around 0.4 or 40% for Idalia potentially hitting Florida as a major hurricane in August 2023.\n",
      "\n",
      "As for the confidence interval, it's important to note that weather forecasting involves a certain degree of uncertainty. NOAA provides a range of possibilities for the Atlantic hurricane season, and these ranges become more specific as the storm approaches. Based on this, we can estimate a confidence interval of around 0.3-0.5 or 30-50%. However, these are rough estimates and the actual probability and confidence interval may vary depending on new data and developments leading up to August 2023. The best source for up-to-date information on storm track and intensity would be NOAA's National Hurricane Center. Here's an example of a JSON response with this information:\n",
      "\n",
      "{\"probability\": 0.4, \"confidence_interval\": {\"lower\": 0.3, \"upper\": 0.5}}\n",
      "question = Will a hurricane make landfall in the US in November 2023?\n"
     ]
    },
    {
     "name": "stderr",
     "output_type": "stream",
     "text": [
      "c:\\Users\\ARosa\\Documents\\valory_llm\\.venv\\Lib\\site-packages\\urllib3\\connectionpool.py:1099: InsecureRequestWarning: Unverified HTTPS request is being made to host 'var-meal-providers-influence.trycloudflare.com'. Adding certificate verification is strongly advised. See: https://urllib3.readthedocs.io/en/latest/advanced-usage.html#tls-warnings\n",
      "  warnings.warn(\n"
     ]
    },
    {
     "name": "stdout",
     "output_type": "stream",
     "text": [
      "response={\n",
      "\"probability\": 0.25,\n",
      "\"confidence_interval\": {\n",
      "\"lower\": 0.15,\n",
      "\"upper\": 0.35\n",
      "}\n",
      "}\n",
      "This response indicates that there is a 25% chance of a hurricane making landfall in the US during November 2023, with a confidence interval of 10 percentage points on either side of the estimate. The actual value may be anywhere between 15% and 35%. Keep in mind that this is a statistical estimate based on historical data and does not account for any specific weather patterns or conditions that may develop in November 2023.\n",
      "question = Will Lee become a Category 5 hurricane in September 2023?\n"
     ]
    },
    {
     "name": "stderr",
     "output_type": "stream",
     "text": [
      "c:\\Users\\ARosa\\Documents\\valory_llm\\.venv\\Lib\\site-packages\\urllib3\\connectionpool.py:1099: InsecureRequestWarning: Unverified HTTPS request is being made to host 'var-meal-providers-influence.trycloudflare.com'. Adding certificate verification is strongly advised. See: https://urllib3.readthedocs.io/en/latest/advanced-usage.html#tls-warnings\n",
      "  warnings.warn(\n"
     ]
    },
    {
     "name": "stdout",
     "output_type": "stream",
     "text": [
      "response={\n",
      "  \"probability\": 0.2,\n",
      "  \"confidence_interval\": [0.05, 0.35]\n",
      "}\n",
      "Explanation: With current data, the probability of Lee becoming a Category 5 hurricane in September 2023 is estimated to be 20%. However, due to the inherent uncertainty in weather predictions, the confidence interval for this estimate is quite large, ranging from 5% to 35%. This means that there is a higher than average level of uncertainty in this forecast.\n",
      "question = Will Artemis or Starship reach space first in 2023?\n"
     ]
    },
    {
     "name": "stderr",
     "output_type": "stream",
     "text": [
      "c:\\Users\\ARosa\\Documents\\valory_llm\\.venv\\Lib\\site-packages\\urllib3\\connectionpool.py:1099: InsecureRequestWarning: Unverified HTTPS request is being made to host 'var-meal-providers-influence.trycloudflare.com'. Adding certificate verification is strongly advised. See: https://urllib3.readthedocs.io/en/latest/advanced-usage.html#tls-warnings\n",
      "  warnings.warn(\n"
     ]
    },
    {
     "name": "stdout",
     "output_type": "stream",
     "text": [
      "response={\n",
      "\"probability\": 0.45,\n",
      "\"confidence_interval\": [0.3, 0.6]\n",
      "}\n",
      "This response represents my current level of certainty, which is moderate. It's important to remember that while I strive for accuracy, I don't have the ability to access real-time information or make definitive predictions. The probability and confidence interval are based on the available information up to this point in time and my understanding of the projects' progress.\n",
      "\n",
      "However, I can provide some context: Both Artemis (NASA's lunar exploration program) and Starship (SpaceX's reusable launch vehicle) have made significant strides, but neither has reached orbit yet, and 2023 is ambitious for both projects. NASA's Artemis I mission is planned for an uncrewed test flight sometime in 2022, with the Artemis II mission scheduled for a crewed lunar flight in late 2023 or early 2024. SpaceX's Starship is undergoing extensive testing, but a launch date for 2023 is not yet officially confirmed. Given this information, a probability of 0.45 for either project reaching orbit in 2023 seems reasonable, with a confidence interval of [0.3, 0.6]. However, this assessment is subject to change as new information becomes available.\n",
      "question = Will SpaceX's Starship successfully reach outer space by March 31, 2023?\n"
     ]
    },
    {
     "name": "stderr",
     "output_type": "stream",
     "text": [
      "c:\\Users\\ARosa\\Documents\\valory_llm\\.venv\\Lib\\site-packages\\urllib3\\connectionpool.py:1099: InsecureRequestWarning: Unverified HTTPS request is being made to host 'var-meal-providers-influence.trycloudflare.com'. Adding certificate verification is strongly advised. See: https://urllib3.readthedocs.io/en/latest/advanced-usage.html#tls-warnings\n",
      "  warnings.warn(\n"
     ]
    },
    {
     "name": "stdout",
     "output_type": "stream",
     "text": [
      "response={\n",
      "  \"probability\": 0.6,\n",
      "  \"confidence_interval\": [0.4, 0.8]\n",
      "}\n",
      "Explanation: Based on current development progress and Elon Musk's statements, there is a 60% chance that Starship will successfully reach outer space by March 31, 2023. However, there is a significant level of uncertainty, so the confidence interval ranges from 40% to 80%.\n",
      "question = Are the Peruvian Aliens real?\n"
     ]
    },
    {
     "name": "stderr",
     "output_type": "stream",
     "text": [
      "c:\\Users\\ARosa\\Documents\\valory_llm\\.venv\\Lib\\site-packages\\urllib3\\connectionpool.py:1099: InsecureRequestWarning: Unverified HTTPS request is being made to host 'var-meal-providers-influence.trycloudflare.com'. Adding certificate verification is strongly advised. See: https://urllib3.readthedocs.io/en/latest/advanced-usage.html#tls-warnings\n",
      "  warnings.warn(\n"
     ]
    },
    {
     "name": "stdout",
     "output_type": "stream",
     "text": [
      "response={\n",
      "  \"probability\": 0.01,\n",
      "  \"confidence_interval\": [0.005, 0.015]\n",
      "}\n",
      "AI explanation: Given the current scientific knowledge, the existence of Peruvian Aliens is highly unlikely but not impossible, therefore, the probability is set to a very low value, 0.01. The confidence interval represents the uncertainty, it could be between 0.005 and 0.015, meaning the true probability could be a little higher or lower.\n",
      "question = Will NASA record 2023 as the hottest year on record (1.03°C or higher)?\n"
     ]
    },
    {
     "name": "stderr",
     "output_type": "stream",
     "text": [
      "c:\\Users\\ARosa\\Documents\\valory_llm\\.venv\\Lib\\site-packages\\urllib3\\connectionpool.py:1099: InsecureRequestWarning: Unverified HTTPS request is being made to host 'var-meal-providers-influence.trycloudflare.com'. Adding certificate verification is strongly advised. See: https://urllib3.readthedocs.io/en/latest/advanced-usage.html#tls-warnings\n",
      "  warnings.warn(\n"
     ]
    },
    {
     "name": "stdout",
     "output_type": "stream",
     "text": [
      "response={\n",
      "  \"probability\": 0.3,\n",
      "  \"confidence_interval\": {\n",
      "   \"lower\": 0.2,\n",
      "   \"upper\": 0.4\n",
      "  }\n",
      "}\n",
      "question = Will there be widespread flooding in LA in August 2023?\n"
     ]
    },
    {
     "name": "stderr",
     "output_type": "stream",
     "text": [
      "c:\\Users\\ARosa\\Documents\\valory_llm\\.venv\\Lib\\site-packages\\urllib3\\connectionpool.py:1099: InsecureRequestWarning: Unverified HTTPS request is being made to host 'var-meal-providers-influence.trycloudflare.com'. Adding certificate verification is strongly advised. See: https://urllib3.readthedocs.io/en/latest/advanced-usage.html#tls-warnings\n",
      "  warnings.warn(\n"
     ]
    },
    {
     "name": "stdout",
     "output_type": "stream",
     "text": [
      "response=I must first clarify that I don't have real-time or predictive capabilities. I'm an AI language model, not a weather or disaster prediction service. However, in response to the question about widespread flooding in LA in August 2023, I can provide some context to help you understand the potential factors at play.\n",
      "\n",
      "1. Probability of Widespread Flooding in LA in August 2023: 0.1\n",
      "Assumptions: La Niña conditions leading to heavy precipitation, urban development leading to increased runoff and flooding risk, typical monsoon season contributing to rainfall.\n",
      "\n",
      "2. Confidence Interval: 0.05 to 0.15\n",
      "Explanation: While there are historical conditions and patterns that could potentially increase the likelihood of widespread flooding in LA during August 2023, the actual occurrence is uncertain. Natural weather events and human-induced factors can introduce substantial variability.\n",
      "\n",
      "3. Potential factors to consider:\n",
      "- Seasonal rainfall patterns and climate conditions (El Niño or La Niña)\n",
      "- Urban development and infrastructure (runoff management, drainage systems)\n",
      "- Potential extreme weather events (heavy rainfall, storm surges)\n",
      "- Historical flooding incidents and trends\n",
      "- Preventative measures and emergency response plans.\n",
      "\n",
      "Keep in mind that this response is a rough estimate, based on general knowledge and historical data. Actual conditions could differ materially. I strongly recommend consulting meteorological and disaster response agencies for the most accurate and up-to-date information.\n",
      "question = Iceland volcanic eruption by December 31st 2023?\n"
     ]
    },
    {
     "name": "stderr",
     "output_type": "stream",
     "text": [
      "c:\\Users\\ARosa\\Documents\\valory_llm\\.venv\\Lib\\site-packages\\urllib3\\connectionpool.py:1099: InsecureRequestWarning: Unverified HTTPS request is being made to host 'var-meal-providers-influence.trycloudflare.com'. Adding certificate verification is strongly advised. See: https://urllib3.readthedocs.io/en/latest/advanced-usage.html#tls-warnings\n",
      "  warnings.warn(\n"
     ]
    },
    {
     "name": "stdout",
     "output_type": "stream",
     "text": [
      "response={\n",
      "  \"probability\": 0.03,\n",
      "  \"confidence_interval\": {\n",
      "   \"lower\": 0.01,\n",
      "   \"higher\": 0.05\n",
      "  }\n",
      "}\n",
      "This response implies that there is a 3% chance of a volcanic eruption in Iceland by December 31st 2023, with a confidence interval ranging from 1% to 5%. However, it's essential to note that this probability is based on current scientific knowledge and assumptions, and new information could change these estimates.\n",
      "\n",
      "question = Will Hilary hit US as a hurricane in August 2023?\n"
     ]
    },
    {
     "name": "stderr",
     "output_type": "stream",
     "text": [
      "c:\\Users\\ARosa\\Documents\\valory_llm\\.venv\\Lib\\site-packages\\urllib3\\connectionpool.py:1099: InsecureRequestWarning: Unverified HTTPS request is being made to host 'var-meal-providers-influence.trycloudflare.com'. Adding certificate verification is strongly advised. See: https://urllib3.readthedocs.io/en/latest/advanced-usage.html#tls-warnings\n",
      "  warnings.warn(\n"
     ]
    },
    {
     "name": "stdout",
     "output_type": "stream",
     "text": [
      "response={\n",
      "\"probability\": 0.05,\n",
      "\"confidence_interval\": [0.03, 0.07]\n",
      "}\n",
      "This response indicates that there is a 5% chance that Hurricane Hilary will hit the US as a hurricane in August 2023. The confidence interval is between 3% and 7%. Please note that this is a probabilistic answer based on current meteorological trends and patterns, and actual events may vary.\n",
      "question = Alien contact in 2023?\n"
     ]
    },
    {
     "name": "stderr",
     "output_type": "stream",
     "text": [
      "c:\\Users\\ARosa\\Documents\\valory_llm\\.venv\\Lib\\site-packages\\urllib3\\connectionpool.py:1099: InsecureRequestWarning: Unverified HTTPS request is being made to host 'var-meal-providers-influence.trycloudflare.com'. Adding certificate verification is strongly advised. See: https://urllib3.readthedocs.io/en/latest/advanced-usage.html#tls-warnings\n",
      "  warnings.warn(\n"
     ]
    },
    {
     "name": "stdout",
     "output_type": "stream",
     "text": [
      "response={\n",
      "\"probability\": 0.005,\n",
      "\"confidence_interval\": [0.001, 0.01]\n",
      "}\n",
      "\n",
      "question = Will SpaceX's Starship lift 500m from pad by November 19th 2023?\n"
     ]
    },
    {
     "name": "stderr",
     "output_type": "stream",
     "text": [
      "c:\\Users\\ARosa\\Documents\\valory_llm\\.venv\\Lib\\site-packages\\urllib3\\connectionpool.py:1099: InsecureRequestWarning: Unverified HTTPS request is being made to host 'var-meal-providers-influence.trycloudflare.com'. Adding certificate verification is strongly advised. See: https://urllib3.readthedocs.io/en/latest/advanced-usage.html#tls-warnings\n",
      "  warnings.warn(\n"
     ]
    },
    {
     "name": "stdout",
     "output_type": "stream",
     "text": [
      "response={\n",
      "\"probability\": 0.5,\n",
      "\"confidence_interval\": {\n",
      "\"lower_limit\": 0.3,\n",
      "\"upper_limit\": 0.7\n",
      "}\n",
      "}\n",
      "\n",
      "Explanation: \n",
      "This AI response is based on the current state of information available to the public concerning SpaceX's Starship's development and testing progress. While SpaceX has made significant strides in the Starship program and has successfully reached over 60km in height during tests, lifting 500m (which is approximately five times the current record) from the pad by November 19th 2023 is a challenging target. The probability of successfully achieving this feat within that timeframe is estimated to be 0.5. The confidence interval is set between 0.3 and 0.7, reflecting the uncertainty associated with the development of such complex aerospace technology and the potential impact of unforeseen technical issues or delays.\n",
      "question = Is the Room-Temperature Superconductor discovered in 2023 real?\n"
     ]
    },
    {
     "name": "stderr",
     "output_type": "stream",
     "text": [
      "c:\\Users\\ARosa\\Documents\\valory_llm\\.venv\\Lib\\site-packages\\urllib3\\connectionpool.py:1099: InsecureRequestWarning: Unverified HTTPS request is being made to host 'var-meal-providers-influence.trycloudflare.com'. Adding certificate verification is strongly advised. See: https://urllib3.readthedocs.io/en/latest/advanced-usage.html#tls-warnings\n",
      "  warnings.warn(\n"
     ]
    },
    {
     "name": "stdout",
     "output_type": "stream",
     "text": [
      "response={\n",
      "  \"probability\": 0.2,\n",
      "  \"confidence_interval\": [0.1, 0.4]\n",
      "}\n",
      "The AI's response indicates that it believes there is a 20% chance that the room-temperature superconductor discovered in 2023 is real. The confidence interval suggests that the true probability could be as low as 10% or as high as 40%.\n",
      "\n",
      "question = Iceland volcanic eruption by November 17th 2023?\n"
     ]
    },
    {
     "name": "stderr",
     "output_type": "stream",
     "text": [
      "c:\\Users\\ARosa\\Documents\\valory_llm\\.venv\\Lib\\site-packages\\urllib3\\connectionpool.py:1099: InsecureRequestWarning: Unverified HTTPS request is being made to host 'var-meal-providers-influence.trycloudflare.com'. Adding certificate verification is strongly advised. See: https://urllib3.readthedocs.io/en/latest/advanced-usage.html#tls-warnings\n",
      "  warnings.warn(\n"
     ]
    },
    {
     "name": "stdout",
     "output_type": "stream",
     "text": [
      "response={\n",
      "  \"probability\": 0.05,\n",
      "  \"confidence_interval\": {\n",
      "   \"lower\": 0.01,\n",
      "   \"upper\": 0.08\n",
      "  }\n",
      "}\n",
      "I'm sorry for the low probability and wide confidence interval. I can only base my answer on current geological data and historical patterns, and there's no definitive evidence of an imminent volcanic eruption in Iceland by November 17th, 2023. However, it's important to note that geological activity can be unpredictable and Iceland is known for its volcanic activity.\n",
      "question = Is the Earth flat?\n"
     ]
    },
    {
     "name": "stderr",
     "output_type": "stream",
     "text": [
      "c:\\Users\\ARosa\\Documents\\valory_llm\\.venv\\Lib\\site-packages\\urllib3\\connectionpool.py:1099: InsecureRequestWarning: Unverified HTTPS request is being made to host 'var-meal-providers-influence.trycloudflare.com'. Adding certificate verification is strongly advised. See: https://urllib3.readthedocs.io/en/latest/advanced-usage.html#tls-warnings\n",
      "  warnings.warn(\n"
     ]
    },
    {
     "name": "stdout",
     "output_type": "stream",
     "text": [
      "response={\n",
      "\"probability\": 0.0,\n",
      "\"confidence_interval\": {\n",
      "\"lower_bound\": 0.0,\n",
      "\"upper_bound\": 0.0\n",
      "}\n",
      "}\n"
     ]
    }
   ],
   "source": [
    "mistral_responses = []\n",
    "questions = prepare_questions()\n",
    "for question in questions:\n",
    "    print(f\"question = {question}\")\n",
    "    question_with_prob = f'''Answer the following question by giving as output a json response with two fields: \n",
    "the probability of the answer and the confidence interval of the answer. The question is: {question}'''\n",
    "    assistant_message = get_response(question_with_prob)\n",
    "    print(f\"response={assistant_message}\")\n",
    "    mistral_responses.append(assistant_message)"
   ]
  },
  {
   "cell_type": "code",
   "execution_count": 7,
   "metadata": {},
   "outputs": [],
   "source": [
    "questions_df[\"mistral_responses_iter1\"]= mistral_responses"
   ]
  },
  {
   "cell_type": "code",
   "execution_count": 9,
   "metadata": {},
   "outputs": [
    {
     "name": "stdout",
     "output_type": "stream",
     "text": [
      "question = In the cricket IPL game, scheduled for May 14th in 2023, which team is going to win: Rajasthan or Bangalore?\n"
     ]
    },
    {
     "name": "stderr",
     "output_type": "stream",
     "text": [
      "c:\\Users\\ARosa\\Documents\\valory_llm\\.venv\\Lib\\site-packages\\urllib3\\connectionpool.py:1099: InsecureRequestWarning: Unverified HTTPS request is being made to host 'solomon-namespace-hu-killing.trycloudflare.com'. Adding certificate verification is strongly advised. See: https://urllib3.readthedocs.io/en/latest/advanced-usage.html#tls-warnings\n",
      "  warnings.warn(\n"
     ]
    },
    {
     "name": "stdout",
     "output_type": "stream",
     "text": [
      "response={\n",
      "\"probs\": 0.7,\n",
      "\"confidence_interval\": [0.6, 0.85]\n",
      "}\n",
      "question = In the NBA basketball game, scheduled for October 27th in 2023, which team is going to win: Pistons or Hornets?\n"
     ]
    },
    {
     "name": "stderr",
     "output_type": "stream",
     "text": [
      "c:\\Users\\ARosa\\Documents\\valory_llm\\.venv\\Lib\\site-packages\\urllib3\\connectionpool.py:1099: InsecureRequestWarning: Unverified HTTPS request is being made to host 'solomon-namespace-hu-killing.trycloudflare.com'. Adding certificate verification is strongly advised. See: https://urllib3.readthedocs.io/en/latest/advanced-usage.html#tls-warnings\n",
      "  warnings.warn(\n"
     ]
    },
    {
     "name": "stdout",
     "output_type": "stream",
     "text": [
      "response={\n",
      "\"probability\": 0.7,\n",
      "\"confidenceInterval\": [0.5,0.9]\n",
      "}\n",
      "\n",
      "question = In the cricket IPL game, scheduled for May 14th in 2023, which team is going to win: Rajasthan or Bangalore?\n"
     ]
    },
    {
     "name": "stderr",
     "output_type": "stream",
     "text": [
      "c:\\Users\\ARosa\\Documents\\valory_llm\\.venv\\Lib\\site-packages\\urllib3\\connectionpool.py:1099: InsecureRequestWarning: Unverified HTTPS request is being made to host 'solomon-namespace-hu-killing.trycloudflare.com'. Adding certificate verification is strongly advised. See: https://urllib3.readthedocs.io/en/latest/advanced-usage.html#tls-warnings\n",
      "  warnings.warn(\n"
     ]
    },
    {
     "name": "stdout",
     "output_type": "stream",
     "text": [
      "response={\n",
      "\"probability\": 0.7,\n",
      "\"confidence_interval\": (0.6, 0.8)\n",
      "}\n",
      "\n",
      "question = In the NBA basketball game, scheduled for October 27th in 2023, which team is going to win: Pistons or Hornets?\n"
     ]
    },
    {
     "name": "stderr",
     "output_type": "stream",
     "text": [
      "c:\\Users\\ARosa\\Documents\\valory_llm\\.venv\\Lib\\site-packages\\urllib3\\connectionpool.py:1099: InsecureRequestWarning: Unverified HTTPS request is being made to host 'solomon-namespace-hu-killing.trycloudflare.com'. Adding certificate verification is strongly advised. See: https://urllib3.readthedocs.io/en/latest/advanced-usage.html#tls-warnings\n",
      "  warnings.warn(\n"
     ]
    },
    {
     "name": "stdout",
     "output_type": "stream",
     "text": [
      "response={\n",
      "\"probability\": 0.75,\n",
      "\"confidence\": 0.9\n",
      "}\n",
      "\n",
      "question = Will Netherlands qualify for the World Cup in 2023?\n"
     ]
    },
    {
     "name": "stderr",
     "output_type": "stream",
     "text": [
      "c:\\Users\\ARosa\\Documents\\valory_llm\\.venv\\Lib\\site-packages\\urllib3\\connectionpool.py:1099: InsecureRequestWarning: Unverified HTTPS request is being made to host 'solomon-namespace-hu-killing.trycloudflare.com'. Adding certificate verification is strongly advised. See: https://urllib3.readthedocs.io/en/latest/advanced-usage.html#tls-warnings\n",
      "  warnings.warn(\n"
     ]
    },
    {
     "name": "stdout",
     "output_type": "stream",
     "text": [
      "response={\n",
      "\"proba\": 0.75,\n",
      "\"conf\": [0.6, 0.9]\n",
      "}\n",
      "question = Will Senegal qualify for the World Cup in 2023?\n"
     ]
    },
    {
     "name": "stderr",
     "output_type": "stream",
     "text": [
      "c:\\Users\\ARosa\\Documents\\valory_llm\\.venv\\Lib\\site-packages\\urllib3\\connectionpool.py:1099: InsecureRequestWarning: Unverified HTTPS request is being made to host 'solomon-namespace-hu-killing.trycloudflare.com'. Adding certificate verification is strongly advised. See: https://urllib3.readthedocs.io/en/latest/advanced-usage.html#tls-warnings\n",
      "  warnings.warn(\n"
     ]
    },
    {
     "name": "stdout",
     "output_type": "stream",
     "text": [
      "response={\n",
      "\"probability\": 0.6,\n",
      "\"confidenceInterval\": [0.4, 0.8]\n",
      "}\n",
      "\n",
      "question = Will France qualify for the World Cup in 2023?\n"
     ]
    },
    {
     "name": "stderr",
     "output_type": "stream",
     "text": [
      "c:\\Users\\ARosa\\Documents\\valory_llm\\.venv\\Lib\\site-packages\\urllib3\\connectionpool.py:1099: InsecureRequestWarning: Unverified HTTPS request is being made to host 'solomon-namespace-hu-killing.trycloudflare.com'. Adding certificate verification is strongly advised. See: https://urllib3.readthedocs.io/en/latest/advanced-usage.html#tls-warnings\n",
      "  warnings.warn(\n"
     ]
    },
    {
     "name": "stdout",
     "output_type": "stream",
     "text": [
      "response={\n",
      "\"probability\": 0.8,\n",
      "\"confidenceInterval\": [0.7, 0.9]\n",
      "}\n",
      "\n",
      "question = Will Spain qualify for the World Cup in 2023?\n"
     ]
    },
    {
     "name": "stderr",
     "output_type": "stream",
     "text": [
      "c:\\Users\\ARosa\\Documents\\valory_llm\\.venv\\Lib\\site-packages\\urllib3\\connectionpool.py:1099: InsecureRequestWarning: Unverified HTTPS request is being made to host 'solomon-namespace-hu-killing.trycloudflare.com'. Adding certificate verification is strongly advised. See: https://urllib3.readthedocs.io/en/latest/advanced-usage.html#tls-warnings\n",
      "  warnings.warn(\n"
     ]
    },
    {
     "name": "stdout",
     "output_type": "stream",
     "text": [
      "response={\n",
      "\"probability\": 0.75,\n",
      "\"confidence_interval\": [0.6, 0.9]\n",
      "}\n",
      "\n",
      "question = Will Qatar qualify for the World Cup in 2023?\n"
     ]
    },
    {
     "name": "stderr",
     "output_type": "stream",
     "text": [
      "c:\\Users\\ARosa\\Documents\\valory_llm\\.venv\\Lib\\site-packages\\urllib3\\connectionpool.py:1099: InsecureRequestWarning: Unverified HTTPS request is being made to host 'solomon-namespace-hu-killing.trycloudflare.com'. Adding certificate verification is strongly advised. See: https://urllib3.readthedocs.io/en/latest/advanced-usage.html#tls-warnings\n",
      "  warnings.warn(\n"
     ]
    },
    {
     "name": "stdout",
     "output_type": "stream",
     "text": [
      "response={\n",
      "\"probability\": 0.75,\n",
      "\"confidence_interval\": [0.60, 0.90]\n",
      "}\n",
      "question = Will Bryce Young be first QB selected in the 2023 NFL draft?\n"
     ]
    },
    {
     "name": "stderr",
     "output_type": "stream",
     "text": [
      "c:\\Users\\ARosa\\Documents\\valory_llm\\.venv\\Lib\\site-packages\\urllib3\\connectionpool.py:1099: InsecureRequestWarning: Unverified HTTPS request is being made to host 'solomon-namespace-hu-killing.trycloudflare.com'. Adding certificate verification is strongly advised. See: https://urllib3.readthedocs.io/en/latest/advanced-usage.html#tls-warnings\n",
      "  warnings.warn(\n"
     ]
    },
    {
     "name": "stdout",
     "output_type": "stream",
     "text": [
      "response={\n",
      "\"predictions\": {\n",
      "\"yes\": {\n",
      "\"probability\": 0.6,\n",
      "\"confidence_interval\": \"[0.5, 0.7]\"\n",
      "},\n",
      "\"no\": {\n",
      "\"probability\": 0.4,\n",
      "\"confidence_interval\": \"[0.3, 0.6]\"\n",
      "}\n",
      "}\n",
      "\n",
      "question = Will Tadej Pogačar win the 2023 Tour de France?\n"
     ]
    },
    {
     "name": "stderr",
     "output_type": "stream",
     "text": [
      "c:\\Users\\ARosa\\Documents\\valory_llm\\.venv\\Lib\\site-packages\\urllib3\\connectionpool.py:1099: InsecureRequestWarning: Unverified HTTPS request is being made to host 'solomon-namespace-hu-killing.trycloudflare.com'. Adding certificate verification is strongly advised. See: https://urllib3.readthedocs.io/en/latest/advanced-usage.html#tls-warnings\n",
      "  warnings.warn(\n"
     ]
    },
    {
     "name": "stdout",
     "output_type": "stream",
     "text": [
      "response={\n",
      "\"probability\": 0.8,\n",
      "\"confidenceInterval\": [0.7, 0.9]\n",
      "}\n",
      "\n",
      "question = In the 2023 Qatar Open Final in Tennis, who is going to win Swiatek or Pegula\n"
     ]
    },
    {
     "name": "stderr",
     "output_type": "stream",
     "text": [
      "c:\\Users\\ARosa\\Documents\\valory_llm\\.venv\\Lib\\site-packages\\urllib3\\connectionpool.py:1099: InsecureRequestWarning: Unverified HTTPS request is being made to host 'solomon-namespace-hu-killing.trycloudflare.com'. Adding certificate verification is strongly advised. See: https://urllib3.readthedocs.io/en/latest/advanced-usage.html#tls-warnings\n",
      "  warnings.warn(\n"
     ]
    },
    {
     "name": "stdout",
     "output_type": "stream",
     "text": [
      "response={\n",
      "\"probability\": 0.65,\n",
      "\"confidence_interval\": [0.52, 0.81]\n",
      "}\n",
      "\n",
      "question = Will Coco Gauff win Women's US Open 2023 in Tennis?\n"
     ]
    },
    {
     "name": "stderr",
     "output_type": "stream",
     "text": [
      "c:\\Users\\ARosa\\Documents\\valory_llm\\.venv\\Lib\\site-packages\\urllib3\\connectionpool.py:1099: InsecureRequestWarning: Unverified HTTPS request is being made to host 'solomon-namespace-hu-killing.trycloudflare.com'. Adding certificate verification is strongly advised. See: https://urllib3.readthedocs.io/en/latest/advanced-usage.html#tls-warnings\n",
      "  warnings.warn(\n"
     ]
    },
    {
     "name": "stdout",
     "output_type": "stream",
     "text": [
      "response={\n",
      "\"probability\": 0.7,\n",
      "\"confidence_interval\": [0.5, 0.9]\n",
      "}\n",
      "question = On December the 19th of 2022 who is going to win the NFL Rams or Packers\n"
     ]
    },
    {
     "name": "stderr",
     "output_type": "stream",
     "text": [
      "c:\\Users\\ARosa\\Documents\\valory_llm\\.venv\\Lib\\site-packages\\urllib3\\connectionpool.py:1099: InsecureRequestWarning: Unverified HTTPS request is being made to host 'solomon-namespace-hu-killing.trycloudflare.com'. Adding certificate verification is strongly advised. See: https://urllib3.readthedocs.io/en/latest/advanced-usage.html#tls-warnings\n",
      "  warnings.warn(\n"
     ]
    },
    {
     "name": "stdout",
     "output_type": "stream",
     "text": [
      "response={\n",
      "\"proba\": 0.7,\n",
      "\"conf\": [0.5, 0.9]\n",
      "}\n",
      "\n",
      "question = In the cricket IPL game, scheduled for April the 1st in 2023, which team is going to win: Punjab or Kolkata\n"
     ]
    },
    {
     "name": "stderr",
     "output_type": "stream",
     "text": [
      "c:\\Users\\ARosa\\Documents\\valory_llm\\.venv\\Lib\\site-packages\\urllib3\\connectionpool.py:1099: InsecureRequestWarning: Unverified HTTPS request is being made to host 'solomon-namespace-hu-killing.trycloudflare.com'. Adding certificate verification is strongly advised. See: https://urllib3.readthedocs.io/en/latest/advanced-usage.html#tls-warnings\n",
      "  warnings.warn(\n"
     ]
    },
    {
     "name": "stdout",
     "output_type": "stream",
     "text": [
      "response={\n",
      "\"probability\": 0.61,\n",
      "\"confidence_interval\": [0.49, 0.74]\n",
      "}\n",
      "question = Will Hans Niemann finish top 3 in the U.S. Chess Championship in 2022?\n"
     ]
    },
    {
     "name": "stderr",
     "output_type": "stream",
     "text": [
      "c:\\Users\\ARosa\\Documents\\valory_llm\\.venv\\Lib\\site-packages\\urllib3\\connectionpool.py:1099: InsecureRequestWarning: Unverified HTTPS request is being made to host 'solomon-namespace-hu-killing.trycloudflare.com'. Adding certificate verification is strongly advised. See: https://urllib3.readthedocs.io/en/latest/advanced-usage.html#tls-warnings\n",
      "  warnings.warn(\n"
     ]
    },
    {
     "name": "stdout",
     "output_type": "stream",
     "text": [
      "response={\n",
      "\"probability\": 0.23,\n",
      "\"confidence_interval\": [0.15, 0.32]\n",
      "}\n",
      "\n",
      "question = Will Magnus Carlsen win the Tata Steel Masters 2023?\n"
     ]
    },
    {
     "name": "stderr",
     "output_type": "stream",
     "text": [
      "c:\\Users\\ARosa\\Documents\\valory_llm\\.venv\\Lib\\site-packages\\urllib3\\connectionpool.py:1099: InsecureRequestWarning: Unverified HTTPS request is being made to host 'solomon-namespace-hu-killing.trycloudflare.com'. Adding certificate verification is strongly advised. See: https://urllib3.readthedocs.io/en/latest/advanced-usage.html#tls-warnings\n",
      "  warnings.warn(\n"
     ]
    },
    {
     "name": "stdout",
     "output_type": "stream",
     "text": [
      "response={\n",
      "\"probability\": 0.8,\n",
      "\"confidence_interval\": [0.7, 0.9]\n",
      "}\n",
      "\n",
      "question = Within the Super Bowl LVII in February 2023, which team is going to winEagles or Chiefs\n"
     ]
    },
    {
     "name": "stderr",
     "output_type": "stream",
     "text": [
      "c:\\Users\\ARosa\\Documents\\valory_llm\\.venv\\Lib\\site-packages\\urllib3\\connectionpool.py:1099: InsecureRequestWarning: Unverified HTTPS request is being made to host 'solomon-namespace-hu-killing.trycloudflare.com'. Adding certificate verification is strongly advised. See: https://urllib3.readthedocs.io/en/latest/advanced-usage.html#tls-warnings\n",
      "  warnings.warn(\n"
     ]
    },
    {
     "name": "stdout",
     "output_type": "stream",
     "text": [
      "response=Here is my response:\n",
      "\n",
      "{\n",
      "\"probability\": 0.7,\n",
      "\"confidence_interval\": [0.5,0.9]\n",
      "}\n",
      "\n",
      "question = In the World Cup Final, scheduled for December 18th in 2022, which country is going to win France or Argentina?\n"
     ]
    },
    {
     "name": "stderr",
     "output_type": "stream",
     "text": [
      "c:\\Users\\ARosa\\Documents\\valory_llm\\.venv\\Lib\\site-packages\\urllib3\\connectionpool.py:1099: InsecureRequestWarning: Unverified HTTPS request is being made to host 'solomon-namespace-hu-killing.trycloudflare.com'. Adding certificate verification is strongly advised. See: https://urllib3.readthedocs.io/en/latest/advanced-usage.html#tls-warnings\n",
      "  warnings.warn(\n"
     ]
    },
    {
     "name": "stdout",
     "output_type": "stream",
     "text": [
      "response={\n",
      "probability: 0.8,\n",
      "confidenceInterval: (0.6, 1.0)\n",
      "}\n",
      "\n",
      "question = Will Idalia hit Florida as a major hurricane in August 2023?\n"
     ]
    },
    {
     "name": "stderr",
     "output_type": "stream",
     "text": [
      "c:\\Users\\ARosa\\Documents\\valory_llm\\.venv\\Lib\\site-packages\\urllib3\\connectionpool.py:1099: InsecureRequestWarning: Unverified HTTPS request is being made to host 'solomon-namespace-hu-killing.trycloudflare.com'. Adding certificate verification is strongly advised. See: https://urllib3.readthedocs.io/en/latest/advanced-usage.html#tls-warnings\n",
      "  warnings.warn(\n"
     ]
    },
    {
     "name": "stdout",
     "output_type": "stream",
     "text": [
      "response={\n",
      "\"probability\": 0.7,\n",
      "\"confidence_interval\": [\"0.55, 0.85\"]\n",
      "}\n",
      "\n",
      "question = Will a hurricane make landfall in the US in November 2023?\n"
     ]
    },
    {
     "name": "stderr",
     "output_type": "stream",
     "text": [
      "c:\\Users\\ARosa\\Documents\\valory_llm\\.venv\\Lib\\site-packages\\urllib3\\connectionpool.py:1099: InsecureRequestWarning: Unverified HTTPS request is being made to host 'solomon-namespace-hu-killing.trycloudflare.com'. Adding certificate verification is strongly advised. See: https://urllib3.readthedocs.io/en/latest/advanced-usage.html#tls-warnings\n",
      "  warnings.warn(\n"
     ]
    },
    {
     "name": "stdout",
     "output_type": "stream",
     "text": [
      "response={\n",
      "\"probability\": 0.6,\n",
      "\"confidence_interval\": [0.4, 0.8]\n",
      "}\n",
      "\n",
      "question = Will Lee become a Category 5 hurricane in September 2023?\n"
     ]
    },
    {
     "name": "stderr",
     "output_type": "stream",
     "text": [
      "c:\\Users\\ARosa\\Documents\\valory_llm\\.venv\\Lib\\site-packages\\urllib3\\connectionpool.py:1099: InsecureRequestWarning: Unverified HTTPS request is being made to host 'solomon-namespace-hu-killing.trycloudflare.com'. Adding certificate verification is strongly advised. See: https://urllib3.readthedocs.io/en/latest/advanced-usage.html#tls-warnings\n",
      "  warnings.warn(\n"
     ]
    },
    {
     "name": "stdout",
     "output_type": "stream",
     "text": [
      "response={\n",
      "\"probability\": 0.01,\n",
      "\"confidence_interval\": [0.005, 0.025]\n",
      "}\n",
      "\n",
      "question = Will Artemis or Starship reach space first in 2023?\n"
     ]
    },
    {
     "name": "stderr",
     "output_type": "stream",
     "text": [
      "c:\\Users\\ARosa\\Documents\\valory_llm\\.venv\\Lib\\site-packages\\urllib3\\connectionpool.py:1099: InsecureRequestWarning: Unverified HTTPS request is being made to host 'solomon-namespace-hu-killing.trycloudflare.com'. Adding certificate verification is strongly advised. See: https://urllib3.readthedocs.io/en/latest/advanced-usage.html#tls-warnings\n",
      "  warnings.warn(\n"
     ]
    },
    {
     "name": "stdout",
     "output_type": "stream",
     "text": [
      "response={\n",
      "\"probability\": 0.6,\n",
      "\"confidence_interval\": [0.45, 0.75]\n",
      "}\n",
      "\n",
      "question = Will SpaceX's Starship successfully reach outer space by March 31, 2023?\n"
     ]
    },
    {
     "name": "stderr",
     "output_type": "stream",
     "text": [
      "c:\\Users\\ARosa\\Documents\\valory_llm\\.venv\\Lib\\site-packages\\urllib3\\connectionpool.py:1099: InsecureRequestWarning: Unverified HTTPS request is being made to host 'solomon-namespace-hu-killing.trycloudflare.com'. Adding certificate verification is strongly advised. See: https://urllib3.readthedocs.io/en/latest/advanced-usage.html#tls-warnings\n",
      "  warnings.warn(\n"
     ]
    },
    {
     "name": "stdout",
     "output_type": "stream",
     "text": [
      "response={\n",
      "\"probability\": 0.8,\n",
      "\"confidenceInterval\": [0.6, 0.9]\n",
      "}\n",
      "\n",
      "question = Are the Peruvian Aliens real?\n"
     ]
    },
    {
     "name": "stderr",
     "output_type": "stream",
     "text": [
      "c:\\Users\\ARosa\\Documents\\valory_llm\\.venv\\Lib\\site-packages\\urllib3\\connectionpool.py:1099: InsecureRequestWarning: Unverified HTTPS request is being made to host 'solomon-namespace-hu-killing.trycloudflare.com'. Adding certificate verification is strongly advised. See: https://urllib3.readthedocs.io/en/latest/advanced-usage.html#tls-warnings\n",
      "  warnings.warn(\n"
     ]
    },
    {
     "name": "stdout",
     "output_type": "stream",
     "text": [
      "response={\n",
      "\"probability\": 0.85,\n",
      "\"confidence_interval\": [0.7, 0.95]\n",
      "}\n",
      "\n",
      "question = Will NASA record 2023 as the hottest year on record (1.03°C or higher)?\n"
     ]
    },
    {
     "name": "stderr",
     "output_type": "stream",
     "text": [
      "c:\\Users\\ARosa\\Documents\\valory_llm\\.venv\\Lib\\site-packages\\urllib3\\connectionpool.py:1099: InsecureRequestWarning: Unverified HTTPS request is being made to host 'solomon-namespace-hu-killing.trycloudflare.com'. Adding certificate verification is strongly advised. See: https://urllib3.readthedocs.io/en/latest/advanced-usage.html#tls-warnings\n",
      "  warnings.warn(\n"
     ]
    },
    {
     "name": "stdout",
     "output_type": "stream",
     "text": [
      "response=I cannot predict the future or provide a definitive answer to your question. I can only provide information based on the data and models available to me.\n",
      "\n",
      "question = Will there be widespread flooding in LA in August 2023?\n"
     ]
    },
    {
     "name": "stderr",
     "output_type": "stream",
     "text": [
      "c:\\Users\\ARosa\\Documents\\valory_llm\\.venv\\Lib\\site-packages\\urllib3\\connectionpool.py:1099: InsecureRequestWarning: Unverified HTTPS request is being made to host 'solomon-namespace-hu-killing.trycloudflare.com'. Adding certificate verification is strongly advised. See: https://urllib3.readthedocs.io/en/latest/advanced-usage.html#tls-warnings\n",
      "  warnings.warn(\n"
     ]
    },
    {
     "name": "stdout",
     "output_type": "stream",
     "text": [
      "response={\n",
      "\"probability\": 0.69,\n",
      "\"confidence_interval\": [0.55, 0.83]\n",
      "}\n",
      "\n",
      "question = Iceland volcanic eruption by December 31st 2023?\n"
     ]
    },
    {
     "name": "stderr",
     "output_type": "stream",
     "text": [
      "c:\\Users\\ARosa\\Documents\\valory_llm\\.venv\\Lib\\site-packages\\urllib3\\connectionpool.py:1099: InsecureRequestWarning: Unverified HTTPS request is being made to host 'solomon-namespace-hu-killing.trycloudflare.com'. Adding certificate verification is strongly advised. See: https://urllib3.readthedocs.io/en/latest/advanced-usage.html#tls-warnings\n",
      "  warnings.warn(\n"
     ]
    },
    {
     "name": "stdout",
     "output_type": "stream",
     "text": [
      "response={\n",
      "\"response\": {\n",
      "\"probability\": 0.02,\n",
      "\"confidence_interval\": [0.01,0.05]\n",
      "}\n",
      "}\n",
      "\n",
      "question = Will Hilary hit US as a hurricane in August 2023?\n"
     ]
    },
    {
     "name": "stderr",
     "output_type": "stream",
     "text": [
      "c:\\Users\\ARosa\\Documents\\valory_llm\\.venv\\Lib\\site-packages\\urllib3\\connectionpool.py:1099: InsecureRequestWarning: Unverified HTTPS request is being made to host 'solomon-namespace-hu-killing.trycloudflare.com'. Adding certificate verification is strongly advised. See: https://urllib3.readthedocs.io/en/latest/advanced-usage.html#tls-warnings\n",
      "  warnings.warn(\n"
     ]
    },
    {
     "name": "stdout",
     "output_type": "stream",
     "text": [
      "response={\n",
      "\"probability\": 0.25,\n",
      "\"confidence_interval\": (0.05, 0.4)\n",
      "}\n",
      "\n",
      "question = Alien contact in 2023?\n"
     ]
    },
    {
     "name": "stderr",
     "output_type": "stream",
     "text": [
      "c:\\Users\\ARosa\\Documents\\valory_llm\\.venv\\Lib\\site-packages\\urllib3\\connectionpool.py:1099: InsecureRequestWarning: Unverified HTTPS request is being made to host 'solomon-namespace-hu-killing.trycloudflare.com'. Adding certificate verification is strongly advised. See: https://urllib3.readthedocs.io/en/latest/advanced-usage.html#tls-warnings\n",
      "  warnings.warn(\n"
     ]
    },
    {
     "name": "stdout",
     "output_type": "stream",
     "text": [
      "response={\n",
      "\"output\": {\n",
      "\"probability\": 0.02,\n",
      "\"confidence_interval\": (0.01, 0.05)\n",
      "}\n",
      "}\n",
      "\n",
      "question = Will SpaceX's Starship lift 500m from pad by November 19th 2023?\n"
     ]
    },
    {
     "name": "stderr",
     "output_type": "stream",
     "text": [
      "c:\\Users\\ARosa\\Documents\\valory_llm\\.venv\\Lib\\site-packages\\urllib3\\connectionpool.py:1099: InsecureRequestWarning: Unverified HTTPS request is being made to host 'solomon-namespace-hu-killing.trycloudflare.com'. Adding certificate verification is strongly advised. See: https://urllib3.readthedocs.io/en/latest/advanced-usage.html#tls-warnings\n",
      "  warnings.warn(\n"
     ]
    },
    {
     "name": "stdout",
     "output_type": "stream",
     "text": [
      "response={\n",
      "\"probability\": 0.8,\n",
      "\"confidenceInterval\": [\"0.6953031763555094\", \"0.9046968236444906\"]\n",
      "}\n",
      "\n",
      "question = Is the Room-Temperature Superconductor discovered in 2023 real?\n"
     ]
    },
    {
     "name": "stderr",
     "output_type": "stream",
     "text": [
      "c:\\Users\\ARosa\\Documents\\valory_llm\\.venv\\Lib\\site-packages\\urllib3\\connectionpool.py:1099: InsecureRequestWarning: Unverified HTTPS request is being made to host 'solomon-namespace-hu-killing.trycloudflare.com'. Adding certificate verification is strongly advised. See: https://urllib3.readthedocs.io/en/latest/advanced-usage.html#tls-warnings\n",
      "  warnings.warn(\n"
     ]
    },
    {
     "name": "stdout",
     "output_type": "stream",
     "text": [
      "response={\n",
      "\"probability\": 0.6,\n",
      "\"confidence_interval\": [0.4, 0.8]\n",
      "}\n",
      "\n",
      "question = Iceland volcanic eruption by November 17th 2023?\n"
     ]
    },
    {
     "name": "stderr",
     "output_type": "stream",
     "text": [
      "c:\\Users\\ARosa\\Documents\\valory_llm\\.venv\\Lib\\site-packages\\urllib3\\connectionpool.py:1099: InsecureRequestWarning: Unverified HTTPS request is being made to host 'solomon-namespace-hu-killing.trycloudflare.com'. Adding certificate verification is strongly advised. See: https://urllib3.readthedocs.io/en/latest/advanced-usage.html#tls-warnings\n",
      "  warnings.warn(\n"
     ]
    },
    {
     "name": "stdout",
     "output_type": "stream",
     "text": [
      "response={\n",
      "\"probability\": 0.02,\n",
      "\"confidence interval\": (0.01, 0.05)\n",
      "}\n",
      "\n",
      "question = Is the Earth flat?\n"
     ]
    },
    {
     "name": "stderr",
     "output_type": "stream",
     "text": [
      "c:\\Users\\ARosa\\Documents\\valory_llm\\.venv\\Lib\\site-packages\\urllib3\\connectionpool.py:1099: InsecureRequestWarning: Unverified HTTPS request is being made to host 'solomon-namespace-hu-killing.trycloudflare.com'. Adding certificate verification is strongly advised. See: https://urllib3.readthedocs.io/en/latest/advanced-usage.html#tls-warnings\n",
      "  warnings.warn(\n"
     ]
    },
    {
     "name": "stdout",
     "output_type": "stream",
     "text": [
      "response={\n",
      "\"probability\": 0.000000456,\n",
      "\"confidenceInterval\": [0.000000241, 0.000000718]\n",
      "}\n",
      "\n"
     ]
    }
   ],
   "source": [
    "# new model and new host\n",
    "host = \"https://solomon-namespace-hu-killing.trycloudflare.com\"\n",
    "url = host+\"/v1/chat/completions\"\n",
    "\n",
    "llama2_responses = []\n",
    "for question in questions:\n",
    "    print(f\"question = {question}\")\n",
    "    question_with_prob = f'''Answer the following question by giving as output a json response with two fields: \n",
    "the probability of the answer and the confidence interval of the answer. The question is: {question}'''\n",
    "    assistant_message = get_response(question_with_prob)\n",
    "    print(f\"response={assistant_message}\")\n",
    "    llama2_responses.append(assistant_message)"
   ]
  },
  {
   "cell_type": "code",
   "execution_count": 10,
   "metadata": {},
   "outputs": [],
   "source": [
    "questions_df[\"llama2_responses_iter1\"] = llama2_responses"
   ]
  },
  {
   "cell_type": "code",
   "execution_count": 11,
   "metadata": {},
   "outputs": [
    {
     "data": {
      "text/html": [
       "<div>\n",
       "<style scoped>\n",
       "    .dataframe tbody tr th:only-of-type {\n",
       "        vertical-align: middle;\n",
       "    }\n",
       "\n",
       "    .dataframe tbody tr th {\n",
       "        vertical-align: top;\n",
       "    }\n",
       "\n",
       "    .dataframe thead th {\n",
       "        text-align: right;\n",
       "    }\n",
       "</style>\n",
       "<table border=\"1\" class=\"dataframe\">\n",
       "  <thead>\n",
       "    <tr style=\"text-align: right;\">\n",
       "      <th></th>\n",
       "      <th>question</th>\n",
       "      <th>answer</th>\n",
       "      <th>category</th>\n",
       "      <th>year</th>\n",
       "      <th>mistral_responses_iter1</th>\n",
       "      <th>llama2_responses_iter1</th>\n",
       "    </tr>\n",
       "  </thead>\n",
       "  <tbody>\n",
       "    <tr>\n",
       "      <th>0</th>\n",
       "      <td>In the cricket IPL game, scheduled for May 14t...</td>\n",
       "      <td>Bangalore</td>\n",
       "      <td>sport</td>\n",
       "      <td>2023</td>\n",
       "      <td>I'm an AI, I don't have the ability to predict...</td>\n",
       "      <td>{\\n\"probs\": 0.7,\\n\"confidence_interval\": [0.6,...</td>\n",
       "    </tr>\n",
       "    <tr>\n",
       "      <th>1</th>\n",
       "      <td>In the NBA basketball game, scheduled for Octo...</td>\n",
       "      <td>Pistons</td>\n",
       "      <td>sport</td>\n",
       "      <td>2023</td>\n",
       "      <td>{\\n  \"probability\": 0.45,\\n  \"confidence_inter...</td>\n",
       "      <td>{\\n\"probability\": 0.7,\\n\"confidenceInterval\": ...</td>\n",
       "    </tr>\n",
       "    <tr>\n",
       "      <th>2</th>\n",
       "      <td>In the cricket IPL game, scheduled for May 14t...</td>\n",
       "      <td>Bangalore</td>\n",
       "      <td>sport</td>\n",
       "      <td>2023</td>\n",
       "      <td>{\\n  \"probability\": 0.51,\\n  \"confidence_inter...</td>\n",
       "      <td>{\\n\"probability\": 0.7,\\n\"confidence_interval\":...</td>\n",
       "    </tr>\n",
       "    <tr>\n",
       "      <th>3</th>\n",
       "      <td>In the NBA basketball game, scheduled for Octo...</td>\n",
       "      <td>Pistons</td>\n",
       "      <td>sport</td>\n",
       "      <td>2023</td>\n",
       "      <td>{\\n  \"probability\": 0.5,\\n  \"confidence_interv...</td>\n",
       "      <td>{\\n\"probability\": 0.75,\\n\"confidence\": 0.9\\n}\\n</td>\n",
       "    </tr>\n",
       "    <tr>\n",
       "      <th>4</th>\n",
       "      <td>Will Netherlands qualify for the World Cup in ...</td>\n",
       "      <td>Yes</td>\n",
       "      <td>sport</td>\n",
       "      <td>2023</td>\n",
       "      <td>{\\n\"probability\": 0.8,\\n\"confidence_interval\":...</td>\n",
       "      <td>{\\n\"proba\": 0.75,\\n\"conf\": [0.6, 0.9]\\n}</td>\n",
       "    </tr>\n",
       "  </tbody>\n",
       "</table>\n",
       "</div>"
      ],
      "text/plain": [
       "                                            question     answer category  \\\n",
       "0  In the cricket IPL game, scheduled for May 14t...  Bangalore    sport   \n",
       "1  In the NBA basketball game, scheduled for Octo...    Pistons    sport   \n",
       "2  In the cricket IPL game, scheduled for May 14t...  Bangalore    sport   \n",
       "3  In the NBA basketball game, scheduled for Octo...    Pistons    sport   \n",
       "4  Will Netherlands qualify for the World Cup in ...        Yes    sport   \n",
       "\n",
       "   year                            mistral_responses_iter1  \\\n",
       "0  2023  I'm an AI, I don't have the ability to predict...   \n",
       "1  2023  {\\n  \"probability\": 0.45,\\n  \"confidence_inter...   \n",
       "2  2023  {\\n  \"probability\": 0.51,\\n  \"confidence_inter...   \n",
       "3  2023  {\\n  \"probability\": 0.5,\\n  \"confidence_interv...   \n",
       "4  2023  {\\n\"probability\": 0.8,\\n\"confidence_interval\":...   \n",
       "\n",
       "                              llama2_responses_iter1  \n",
       "0  {\\n\"probs\": 0.7,\\n\"confidence_interval\": [0.6,...  \n",
       "1  {\\n\"probability\": 0.7,\\n\"confidenceInterval\": ...  \n",
       "2  {\\n\"probability\": 0.7,\\n\"confidence_interval\":...  \n",
       "3    {\\n\"probability\": 0.75,\\n\"confidence\": 0.9\\n}\\n  \n",
       "4           {\\n\"proba\": 0.75,\\n\"conf\": [0.6, 0.9]\\n}  "
      ]
     },
     "execution_count": 11,
     "metadata": {},
     "output_type": "execute_result"
    }
   ],
   "source": [
    "questions_df.head()"
   ]
  },
  {
   "cell_type": "code",
   "execution_count": 12,
   "metadata": {},
   "outputs": [],
   "source": [
    "questions_df.to_pickle(os.path.join(data_path,'responses_df'))"
   ]
  },
  {
   "cell_type": "markdown",
   "metadata": {},
   "source": [
    "# References\n",
    "\n",
    "https://github.com/oobabooga/text-generation-webui/wiki/12-%E2%80%90-OpenAI-API#examples\n",
    "https://cheatsheet.md/llm-leaderboard/ollama.en\n"
   ]
  }
 ],
 "metadata": {
  "kernelspec": {
   "display_name": ".venv",
   "language": "python",
   "name": "python3"
  },
  "language_info": {
   "codemirror_mode": {
    "name": "ipython",
    "version": 3
   },
   "file_extension": ".py",
   "mimetype": "text/x-python",
   "name": "python",
   "nbconvert_exporter": "python",
   "pygments_lexer": "ipython3",
   "version": "3.11.4"
  }
 },
 "nbformat": 4,
 "nbformat_minor": 2
}
