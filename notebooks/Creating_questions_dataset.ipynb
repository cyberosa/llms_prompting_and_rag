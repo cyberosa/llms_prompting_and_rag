{
 "cells": [
  {
   "cell_type": "markdown",
   "metadata": {},
   "source": [
    "## Zero Shot Inference with an Instruction \n",
    "\n",
    "Zero-shot learning in NLP allows a pre-trained LLM to generate responses to tasks that it hasn’t been specifically trained for. In this technique, the model is provided with an input text and a prompt that describes the expected output from the model in natural language. The pre-trained models can use its knowledge to generate coherent and relevant responses even for prompts it hasn’t specifically been trained on. Zero-shot learning can reduce the time and data required while improving efficiency and accuracy of NLP tasks. Zero-shot learning is used in a variety of NLP tasks, such as question answering, summarization, and text generation."
   ]
  },
  {
   "cell_type": "markdown",
   "metadata": {},
   "source": [
    "We were asked to explore the use of LLMs in prediction tasks. Using as templates for the questions to the model the following website: https://polymarket.com/. "
   ]
  },
  {
   "cell_type": "markdown",
   "metadata": {},
   "source": [
    "## Polymarket API\n",
    "We found an API but it seems to be design to complete orders\n",
    "https://docs.polymarket.com/#system\n",
    "\n",
    "***The Polymarket Order Book API is a set of endpoints that allow market makers, traders, and other Polymarket users to programmatically create and manage orders for markets via access to the API provided by the operator.***\n",
    "\n",
    "We do not want to perform any trading but to collect questions from the markets so this is not our place..."
   ]
  },
  {
   "cell_type": "markdown",
   "metadata": {},
   "source": [
    "## Target models\n",
    "From Ollama (https://ollama.ai/) we use models llama2 and mistral.\n",
    "\n",
    "### Pretraining data cutoff?\n",
    "* For Llama2 the pretraining data has a cutoff of September 2022\n",
    "https://llama-2.ai/llama-2-model-details/\n",
    "* Mistral 7B’s training data cutoff was sometime in 2023, but we could not find an exact date. However it was released around October 2023.\n",
    "\n",
    "## How to build the training dataset?\n",
    "Collecting questions from closed markets and from different years. However in the polymarket website most of the closed questions are from 2023. Thus we have more testing data for llama2 rather than mistral.\n",
    "We copied manually just some dozens of questions due to lack of time. However this volume is not big enough to achieve any relevant conclusions so we will use it just to research a bit the \"prediction skills\" of LLM´s.\n",
    "\n",
    "### Warning about \"prediction\" in LLMs\n",
    "\n",
    "<div style=\"padding: 15px; border: 1px solid transparent; border-color: transparent; margin-bottom: 20px; border-radius: 4px; color: #8a6d3b;; background-color: #fcf8e3; border-color: #faebcc;\">\n",
    "The very same creators of these LLMs warn us that the reliability of these models is not 100%. An LLM can create different answers not based on any reference, and this behaviour remains even though reducing the temperature parameter of the model to the minimum. Having said that the scope of this exercise is maybe not well aligned with the true non-reliable-nature of the LLMs.   \n",
    "</div>"
   ]
  },
  {
   "cell_type": "markdown",
   "metadata": {},
   "source": [
    "<div align=\"center\">\n",
    "    <img width=\"800\" src=\"./mistral_lying.png\" alt=\"mistral_lying\" />\n",
    "\n",
    "</div>"
   ]
  },
  {
   "cell_type": "markdown",
   "metadata": {},
   "source": [
    "## Selecting a business\n",
    "We checked different businesses and the volumen of questions for closed markets.\n",
    "\n",
    "* Crypto\n",
    "* Politics\n",
    "* Sports\n",
    "* Science\n",
    "\n",
    "The Sports category seems to have a big amount of questions and maybe there is some reference information in the past from those teams, people that could help in the prediction. Besides the Science category has questions that could be asked out of time. Thus we select some questions of these two categories."
   ]
  },
  {
   "cell_type": "markdown",
   "metadata": {},
   "source": [
    "## Preparing questions and answers\n",
    "We wrote files with questions and answers for both categories in separate files contained within the data folder."
   ]
  },
  {
   "cell_type": "code",
   "execution_count": 8,
   "metadata": {},
   "outputs": [],
   "source": [
    "import pandas as pd\n",
    "import numpy as np\n",
    "import os\n",
    "import re"
   ]
  },
  {
   "cell_type": "code",
   "execution_count": 2,
   "metadata": {},
   "outputs": [],
   "source": [
    "cwd = os.getcwd()\n",
    "parent_dir = os.path.abspath(os.path.join(cwd, os.pardir))\n",
    "data_path = os.path.join(parent_dir, \"data\")\n",
    "with open(os.path.join(data_path,'sport_questions.txt'),encoding='utf-8') as f:\n",
    "    sport_questions = f.read().splitlines() \n",
    "    f.close()\n"
   ]
  },
  {
   "cell_type": "code",
   "execution_count": 24,
   "metadata": {},
   "outputs": [
    {
     "data": {
      "text/plain": [
       "['In the cricket IPL game, scheduled for May 14th in 2023, which team is going to win: Rajasthan or Bangalore?',\n",
       " 'In the NBA basketball game, scheduled for October 27th in 2023, which team is going to win: Pistons or Hornets?',\n",
       " 'Will Netherlands qualify for the World Cup in 2023?',\n",
       " 'Will Senegal qualify for the World Cup in 2023?',\n",
       " 'Will France qualify for the World Cup in 2023?',\n",
       " 'Will Spain qualify for the World Cup in 2023?',\n",
       " 'Will Qatar qualify for the World Cup in 2023?',\n",
       " 'Will Bryce Young be first QB selected in the 2023 NFL draft?',\n",
       " 'Will Tadej Pogačar win the 2023 Tour de France?',\n",
       " 'In the 2023 Qatar Open Final in Tennis, who is going to win Swiatek or Pegula',\n",
       " \"Will Coco Gauff win Women's US Open in Tennis?\",\n",
       " 'On December the 19th of 2022 who is going to win the NFL Rams or Packers',\n",
       " 'In the cricket IPL game, scheduled for April the 1st in 2023, which team is going to win: Punjab or Kolkata',\n",
       " 'Will Hans Niemann finish top 3 in the U.S. Chess Championship in 2022?',\n",
       " 'Will Magnus Carlsen win the Tata Steel Masters 2023?',\n",
       " 'Within the Super Bowl LVII in February 2023, which team is going to winEagles or Chiefs',\n",
       " 'In the World Cup Final, scheduled for December 18th in 2022, which country is going to win France or Argentina?']"
      ]
     },
     "execution_count": 24,
     "metadata": {},
     "output_type": "execute_result"
    }
   ],
   "source": [
    "sport_questions"
   ]
  },
  {
   "cell_type": "code",
   "execution_count": 3,
   "metadata": {},
   "outputs": [],
   "source": [
    "with open(os.path.join(data_path,'sport_answers.txt'),encoding='utf-8') as f:\n",
    "    sport_answers = f.read().splitlines()\n",
    "    f.close()"
   ]
  },
  {
   "cell_type": "code",
   "execution_count": 4,
   "metadata": {},
   "outputs": [],
   "source": [
    "with open(os.path.join(data_path,'science_questions.txt'),encoding='utf-8') as f:\n",
    "    science_questions = f.read().splitlines()\n",
    "    f.close()"
   ]
  },
  {
   "cell_type": "code",
   "execution_count": 5,
   "metadata": {},
   "outputs": [],
   "source": [
    "with open(os.path.join(data_path,'science_answers.txt'),encoding='utf-8') as f:\n",
    "    science_answers = f.read().splitlines()\n",
    "    f.close()"
   ]
  },
  {
   "cell_type": "code",
   "execution_count": 6,
   "metadata": {},
   "outputs": [],
   "source": [
    "questions_df = pd.DataFrame(columns=[\"question\", \"answer\", \"category\", \"year\"])"
   ]
  },
  {
   "cell_type": "code",
   "execution_count": 9,
   "metadata": {},
   "outputs": [
    {
     "data": {
      "text/html": [
       "<div>\n",
       "<style scoped>\n",
       "    .dataframe tbody tr th:only-of-type {\n",
       "        vertical-align: middle;\n",
       "    }\n",
       "\n",
       "    .dataframe tbody tr th {\n",
       "        vertical-align: top;\n",
       "    }\n",
       "\n",
       "    .dataframe thead th {\n",
       "        text-align: right;\n",
       "    }\n",
       "</style>\n",
       "<table border=\"1\" class=\"dataframe\">\n",
       "  <thead>\n",
       "    <tr style=\"text-align: right;\">\n",
       "      <th></th>\n",
       "      <th>question</th>\n",
       "      <th>answer</th>\n",
       "      <th>category</th>\n",
       "      <th>year</th>\n",
       "    </tr>\n",
       "  </thead>\n",
       "  <tbody>\n",
       "    <tr>\n",
       "      <th>0</th>\n",
       "      <td>In the cricket IPL game, scheduled for May 14t...</td>\n",
       "      <td>Bangalore</td>\n",
       "      <td>sport</td>\n",
       "      <td>2023</td>\n",
       "    </tr>\n",
       "    <tr>\n",
       "      <th>1</th>\n",
       "      <td>In the NBA basketball game, scheduled for Octo...</td>\n",
       "      <td>Pistons</td>\n",
       "      <td>sport</td>\n",
       "      <td>2023</td>\n",
       "    </tr>\n",
       "    <tr>\n",
       "      <th>2</th>\n",
       "      <td>In the cricket IPL game, scheduled for May 14t...</td>\n",
       "      <td>Bangalore</td>\n",
       "      <td>sport</td>\n",
       "      <td>2023</td>\n",
       "    </tr>\n",
       "    <tr>\n",
       "      <th>3</th>\n",
       "      <td>In the NBA basketball game, scheduled for Octo...</td>\n",
       "      <td>Pistons</td>\n",
       "      <td>sport</td>\n",
       "      <td>2023</td>\n",
       "    </tr>\n",
       "    <tr>\n",
       "      <th>4</th>\n",
       "      <td>Will Netherlands qualify for the World Cup in ...</td>\n",
       "      <td>Yes</td>\n",
       "      <td>sport</td>\n",
       "      <td>2023</td>\n",
       "    </tr>\n",
       "  </tbody>\n",
       "</table>\n",
       "</div>"
      ],
      "text/plain": [
       "                                            question     answer category  year\n",
       "0  In the cricket IPL game, scheduled for May 14t...  Bangalore    sport  2023\n",
       "1  In the NBA basketball game, scheduled for Octo...    Pistons    sport  2023\n",
       "2  In the cricket IPL game, scheduled for May 14t...  Bangalore    sport  2023\n",
       "3  In the NBA basketball game, scheduled for Octo...    Pistons    sport  2023\n",
       "4  Will Netherlands qualify for the World Cup in ...        Yes    sport  2023"
      ]
     },
     "execution_count": 9,
     "metadata": {},
     "output_type": "execute_result"
    }
   ],
   "source": [
    "for i in range(len(sport_questions)):\n",
    "    question = sport_questions[i]\n",
    "    result = re.findall('(\\d{4})', question)\n",
    "    if len(result) > 0:\n",
    "        year = int(result[0])\n",
    "    else:\n",
    "        year = 2024\n",
    "    questions_df = questions_df.append({'question': question, \n",
    "                         'answer': sport_answers[i],\n",
    "                         'category': \"sport\",\n",
    "                         'year': year}, \n",
    "                        ignore_index=True)\n",
    "    \n",
    "questions_df.head()"
   ]
  },
  {
   "cell_type": "code",
   "execution_count": 10,
   "metadata": {},
   "outputs": [
    {
     "data": {
      "text/html": [
       "<div>\n",
       "<style scoped>\n",
       "    .dataframe tbody tr th:only-of-type {\n",
       "        vertical-align: middle;\n",
       "    }\n",
       "\n",
       "    .dataframe tbody tr th {\n",
       "        vertical-align: top;\n",
       "    }\n",
       "\n",
       "    .dataframe thead th {\n",
       "        text-align: right;\n",
       "    }\n",
       "</style>\n",
       "<table border=\"1\" class=\"dataframe\">\n",
       "  <thead>\n",
       "    <tr style=\"text-align: right;\">\n",
       "      <th></th>\n",
       "      <th>question</th>\n",
       "      <th>answer</th>\n",
       "      <th>category</th>\n",
       "      <th>year</th>\n",
       "    </tr>\n",
       "  </thead>\n",
       "  <tbody>\n",
       "    <tr>\n",
       "      <th>29</th>\n",
       "      <td>Alien contact in 2023?</td>\n",
       "      <td>No</td>\n",
       "      <td>science</td>\n",
       "      <td>2023</td>\n",
       "    </tr>\n",
       "    <tr>\n",
       "      <th>30</th>\n",
       "      <td>Will SpaceX's Starship lift 500m from pad by N...</td>\n",
       "      <td>Yes</td>\n",
       "      <td>science</td>\n",
       "      <td>2023</td>\n",
       "    </tr>\n",
       "    <tr>\n",
       "      <th>31</th>\n",
       "      <td>Is the Room-Temperature Superconductor discove...</td>\n",
       "      <td>No</td>\n",
       "      <td>science</td>\n",
       "      <td>2023</td>\n",
       "    </tr>\n",
       "    <tr>\n",
       "      <th>32</th>\n",
       "      <td>Iceland volcanic eruption by November 17th 2023?</td>\n",
       "      <td>No</td>\n",
       "      <td>science</td>\n",
       "      <td>2023</td>\n",
       "    </tr>\n",
       "    <tr>\n",
       "      <th>33</th>\n",
       "      <td>Is the Earth flat?</td>\n",
       "      <td>No</td>\n",
       "      <td>science</td>\n",
       "      <td>2024</td>\n",
       "    </tr>\n",
       "  </tbody>\n",
       "</table>\n",
       "</div>"
      ],
      "text/plain": [
       "                                             question answer category  year\n",
       "29                             Alien contact in 2023?     No  science  2023\n",
       "30  Will SpaceX's Starship lift 500m from pad by N...    Yes  science  2023\n",
       "31  Is the Room-Temperature Superconductor discove...     No  science  2023\n",
       "32   Iceland volcanic eruption by November 17th 2023?     No  science  2023\n",
       "33                                 Is the Earth flat?     No  science  2024"
      ]
     },
     "execution_count": 10,
     "metadata": {},
     "output_type": "execute_result"
    }
   ],
   "source": [
    "for i in range(len(science_questions)):\n",
    "    question = science_questions[i]\n",
    "    result = re.findall('(\\d{4})', question)\n",
    "    if len(result) > 0:\n",
    "        year = int(result[0])\n",
    "    else:\n",
    "        year = 2024\n",
    "    questions_df = questions_df.append({'question': question, \n",
    "                         'answer': science_answers[i],\n",
    "                         'category': \"science\",\n",
    "                         'year': year}, \n",
    "                        ignore_index=True)\n",
    "    \n",
    "questions_df.tail()"
   ]
  },
  {
   "cell_type": "code",
   "execution_count": 11,
   "metadata": {},
   "outputs": [
    {
     "data": {
      "text/plain": [
       "2023    29\n",
       "2022     3\n",
       "2024     2\n",
       "Name: year, dtype: int64"
      ]
     },
     "execution_count": 11,
     "metadata": {},
     "output_type": "execute_result"
    }
   ],
   "source": [
    "questions_df.year.value_counts()"
   ]
  },
  {
   "cell_type": "code",
   "execution_count": 12,
   "metadata": {},
   "outputs": [],
   "source": [
    "questions_df.to_pickle(os.path.join(data_path,'questions_df'))"
   ]
  },
  {
   "cell_type": "markdown",
   "metadata": {},
   "source": [
    "## References\n",
    "Mistral paper\n",
    "https://arxiv.org/abs/2310.06825\n",
    "\n",
    "Zero Shot in LLMs\n",
    "https://arxiv.org/pdf/2205.11916.pdf"
   ]
  }
 ],
 "metadata": {
  "kernelspec": {
   "display_name": "Python 3",
   "language": "python",
   "name": "python3"
  },
  "language_info": {
   "codemirror_mode": {
    "name": "ipython",
    "version": 3
   },
   "file_extension": ".py",
   "mimetype": "text/x-python",
   "name": "python",
   "nbconvert_exporter": "python",
   "pygments_lexer": "ipython3",
   "version": "3.11.4"
  }
 },
 "nbformat": 4,
 "nbformat_minor": 4
}
